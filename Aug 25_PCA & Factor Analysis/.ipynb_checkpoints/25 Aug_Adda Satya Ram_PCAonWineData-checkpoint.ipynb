{
 "cells": [
  {
   "cell_type": "code",
   "execution_count": 1,
   "metadata": {},
   "outputs": [],
   "source": [
    "#import libraries\n",
    "import os\n",
    "import pandas as pd\n",
    "import numpy as np\n",
    "import scipy as sp\n",
    "import seaborn as sns\n",
    "import math as m\n",
    "import xlrd\n",
    "from scipy import stats\n",
    "from sklearn import datasets\n",
    "import matplotlib.pyplot as plt"
   ]
  },
  {
   "cell_type": "code",
   "execution_count": 2,
   "metadata": {},
   "outputs": [],
   "source": [
    "path = os.getcwd()"
   ]
  },
  {
   "cell_type": "code",
   "execution_count": 3,
   "metadata": {},
   "outputs": [],
   "source": [
    "itrain = pd.read_excel(str(path)+'/Wine_dataset.xlsx')"
   ]
  },
  {
   "cell_type": "code",
   "execution_count": 9,
   "metadata": {},
   "outputs": [
    {
     "data": {
      "text/plain": [
       "Alcohol                 (126, [[14.23, 13.2, 13.16, 14.37, 13.24, 14.2...\n",
       "Malic_Acid              (133, [[1.71, 1.78, 2.36, 1.95, 2.59, 1.76, 1....\n",
       "Ash                     (79, [[2.43, 2.14, 2.67, 2.5, 2.87, 2.45, 2.61...\n",
       "Ash_Alcanity            (63, [[15.6, 11.2, 18.6, 16.8, 21.0, 15.2, 14....\n",
       "Magnesium               (53, [[127.0, 100.0, 101.0, 113.0, 118.0, 112....\n",
       "Total_Phenols           (97, [[2.8, 2.65, 3.85, 3.27, 2.5, 2.6, 2.98, ...\n",
       "Flavanoids              (132, [[3.06, 2.76, 3.24, 3.49, 2.69, 3.39, 2....\n",
       "Nonflavanoid_Phenols    (39, [[0.28, 0.26, 0.3, 0.24, 0.39, 0.34, 0.31...\n",
       "Proanthocyanins         (101, [[2.29, 1.28, 2.81, 2.18, 1.82, 1.97, 1....\n",
       "Color_Intensity         (132, [[5.64, 4.38, 5.68, 7.8, 4.32, 6.75, 5.2...\n",
       "Hue                     (78, [[1.04, 1.05, 1.03, 0.86, 1.02, 1.06, 1.0...\n",
       "OD280                   (122, [[3.92, 3.4, 3.17, 3.45, 2.93, 2.85, 3.5...\n",
       "Proline                 (121, [[1065.0, 1050.0, 1185.0, 1480.0, 735.0,...\n",
       "Customer_Segment                                   (3, [[1.0, 2.0, 3.0]])\n",
       "dtype: object"
      ]
     },
     "execution_count": 9,
     "metadata": {},
     "output_type": "execute_result"
    }
   ],
   "source": [
    "itrain.apply(lambda x:(len(x.unique()), [x.unique()]))"
   ]
  },
  {
   "cell_type": "code",
   "execution_count": 12,
   "metadata": {},
   "outputs": [
    {
     "name": "stdout",
     "output_type": "stream",
     "text": [
      "<class 'pandas.core.frame.DataFrame'>\n",
      "RangeIndex: 178 entries, 0 to 177\n",
      "Data columns (total 14 columns):\n",
      "Alcohol                 178 non-null float64\n",
      "Malic_Acid              178 non-null float64\n",
      "Ash                     178 non-null float64\n",
      "Ash_Alcanity            178 non-null float64\n",
      "Magnesium               178 non-null int64\n",
      "Total_Phenols           178 non-null float64\n",
      "Flavanoids              178 non-null float64\n",
      "Nonflavanoid_Phenols    178 non-null float64\n",
      "Proanthocyanins         178 non-null float64\n",
      "Color_Intensity         178 non-null float64\n",
      "Hue                     178 non-null float64\n",
      "OD280                   178 non-null float64\n",
      "Proline                 178 non-null int64\n",
      "Customer_Segment        178 non-null int64\n",
      "dtypes: float64(11), int64(3)\n",
      "memory usage: 19.5 KB\n",
      "None\n",
      "   Alcohol  Malic_Acid   Ash  Ash_Alcanity  Magnesium  Total_Phenols  \\\n",
      "0    14.23        1.71  2.43          15.6        127           2.80   \n",
      "1    13.20        1.78  2.14          11.2        100           2.65   \n",
      "2    13.16        2.36  2.67          18.6        101           2.80   \n",
      "3    14.37        1.95  2.50          16.8        113           3.85   \n",
      "4    13.24        2.59  2.87          21.0        118           2.80   \n",
      "\n",
      "   Flavanoids  Nonflavanoid_Phenols  Proanthocyanins  Color_Intensity   Hue  \\\n",
      "0        3.06                  0.28             2.29             5.64  1.04   \n",
      "1        2.76                  0.26             1.28             4.38  1.05   \n",
      "2        3.24                  0.30             2.81             5.68  1.03   \n",
      "3        3.49                  0.24             2.18             7.80  0.86   \n",
      "4        2.69                  0.39             1.82             4.32  1.04   \n",
      "\n",
      "   OD280  Proline  Customer_Segment  \n",
      "0   3.92     1065                 1  \n",
      "1   3.40     1050                 1  \n",
      "2   3.17     1185                 1  \n",
      "3   3.45     1480                 1  \n",
      "4   2.93      735                 1  \n"
     ]
    }
   ],
   "source": [
    "print(itrain.info())\n",
    "print(itrain.head())"
   ]
  },
  {
   "cell_type": "code",
   "execution_count": 15,
   "metadata": {},
   "outputs": [
    {
     "data": {
      "text/plain": [
       "<matplotlib.axes._subplots.AxesSubplot at 0x7fa471ccf630>"
      ]
     },
     "execution_count": 15,
     "metadata": {},
     "output_type": "execute_result"
    },
    {
     "data": {
      "image/png": "[encoded data removed]",
      "text/plain": [
       "<matplotlib.figure.Figure at 0x7fa471c57d68>"
      ]
     },
     "metadata": {},
     "output_type": "display_data"
    }
   ],
   "source": [
    "itrain['Customer_Segment'].value_counts().plot.bar()"
   ]
  },
  {
   "cell_type": "code",
   "execution_count": 69,
   "metadata": {},
   "outputs": [
    {
     "data": {
      "text/plain": [
       "array([[<matplotlib.axes._subplots.AxesSubplot object at 0x7fa4651fe4e0>,\n",
       "        <matplotlib.axes._subplots.AxesSubplot object at 0x7fa4651b7668>,\n",
       "        <matplotlib.axes._subplots.AxesSubplot object at 0x7fa46516c668>,\n",
       "        <matplotlib.axes._subplots.AxesSubplot object at 0x7fa4651216d8>],\n",
       "       [<matplotlib.axes._subplots.AxesSubplot object at 0x7fa4651372b0>,\n",
       "        <matplotlib.axes._subplots.AxesSubplot object at 0x7fa465137128>,\n",
       "        <matplotlib.axes._subplots.AxesSubplot object at 0x7fa4650b7518>,\n",
       "        <matplotlib.axes._subplots.AxesSubplot object at 0x7fa465073518>],\n",
       "       [<matplotlib.axes._subplots.AxesSubplot object at 0x7fa4650294a8>,\n",
       "        <matplotlib.axes._subplots.AxesSubplot object at 0x7fa464fcfe48>,\n",
       "        <matplotlib.axes._subplots.AxesSubplot object at 0x7fa464f88e48>,\n",
       "        <matplotlib.axes._subplots.AxesSubplot object at 0x7fa464f4d358>],\n",
       "       [<matplotlib.axes._subplots.AxesSubplot object at 0x7fa464f863c8>,\n",
       "        <matplotlib.axes._subplots.AxesSubplot object at 0x7fa464f422e8>,\n",
       "        <matplotlib.axes._subplots.AxesSubplot object at 0x7fa4653334e0>,\n",
       "        <matplotlib.axes._subplots.AxesSubplot object at 0x7fa46549dbe0>]],\n",
       "      dtype=object)"
      ]
     },
     "execution_count": 69,
     "metadata": {},
     "output_type": "execute_result"
    },
    {
     "data": {
      "image/png": "[encoded data removed]",
      "text/plain": [
       "<matplotlib.figure.Figure at 0x7fa4652335c0>"
      ]
     },
     "metadata": {},
     "output_type": "display_data"
    }
   ],
   "source": [
    "itrain.hist()"
   ]
  },
  {
   "cell_type": "code",
   "execution_count": 17,
   "metadata": {},
   "outputs": [
    {
     "data": {
      "text/plain": [
       "(178, 14)"
      ]
     },
     "execution_count": 17,
     "metadata": {},
     "output_type": "execute_result"
    }
   ],
   "source": [
    "itrain.shape"
   ]
  },
  {
   "cell_type": "code",
   "execution_count": 18,
   "metadata": {},
   "outputs": [],
   "source": [
    "X = itrain.drop('Customer_Segment', axis = 1)"
   ]
  },
  {
   "cell_type": "code",
   "execution_count": null,
   "metadata": {},
   "outputs": [],
   "source": [
    "print('NumPy covariance matrix: \\n%s' %np.cov(X.T))"
   ]
  },
  {
   "cell_type": "code",
   "execution_count": 68,
   "metadata": {},
   "outputs": [
    {
     "data": {
      "text/html": [
       "<div>\n",
       "<style scoped>\n",
       "    .dataframe tbody tr th:only-of-type {\n",
       "        vertical-align: middle;\n",
       "    }\n",
       "\n",
       "    .dataframe tbody tr th {\n",
       "        vertical-align: top;\n",
       "    }\n",
       "\n",
       "    .dataframe thead th {\n",
       "        text-align: right;\n",
       "    }\n",
       "</style>\n",
       "<table border=\"1\" class=\"dataframe\">\n",
       "  <thead>\n",
       "    <tr style=\"text-align: right;\">\n",
       "      <th></th>\n",
       "      <th>Alcohol</th>\n",
       "      <th>Malic_Acid</th>\n",
       "      <th>Ash</th>\n",
       "      <th>Ash_Alcanity</th>\n",
       "      <th>Magnesium</th>\n",
       "      <th>Total_Phenols</th>\n",
       "      <th>Flavanoids</th>\n",
       "      <th>Nonflavanoid_Phenols</th>\n",
       "      <th>Proanthocyanins</th>\n",
       "      <th>Color_Intensity</th>\n",
       "      <th>Hue</th>\n",
       "      <th>OD280</th>\n",
       "      <th>Proline</th>\n",
       "    </tr>\n",
       "  </thead>\n",
       "  <tbody>\n",
       "    <tr>\n",
       "      <th>Alcohol</th>\n",
       "      <td>0.659062</td>\n",
       "      <td>0.085611</td>\n",
       "      <td>0.047115</td>\n",
       "      <td>-0.841093</td>\n",
       "      <td>3.139878</td>\n",
       "      <td>0.146887</td>\n",
       "      <td>0.192033</td>\n",
       "      <td>-0.015754</td>\n",
       "      <td>0.063518</td>\n",
       "      <td>1.028283</td>\n",
       "      <td>-0.013313</td>\n",
       "      <td>0.041698</td>\n",
       "      <td>164.567185</td>\n",
       "    </tr>\n",
       "    <tr>\n",
       "      <th>Malic_Acid</th>\n",
       "      <td>0.085611</td>\n",
       "      <td>1.248015</td>\n",
       "      <td>0.050277</td>\n",
       "      <td>1.076332</td>\n",
       "      <td>-0.870780</td>\n",
       "      <td>-0.234338</td>\n",
       "      <td>-0.458630</td>\n",
       "      <td>0.040733</td>\n",
       "      <td>-0.141147</td>\n",
       "      <td>0.644838</td>\n",
       "      <td>-0.143326</td>\n",
       "      <td>-0.292447</td>\n",
       "      <td>-67.548867</td>\n",
       "    </tr>\n",
       "    <tr>\n",
       "      <th>Ash</th>\n",
       "      <td>0.047115</td>\n",
       "      <td>0.050277</td>\n",
       "      <td>0.075265</td>\n",
       "      <td>0.406208</td>\n",
       "      <td>1.122937</td>\n",
       "      <td>0.022146</td>\n",
       "      <td>0.031535</td>\n",
       "      <td>0.006358</td>\n",
       "      <td>0.001516</td>\n",
       "      <td>0.164654</td>\n",
       "      <td>-0.004682</td>\n",
       "      <td>0.000762</td>\n",
       "      <td>19.319739</td>\n",
       "    </tr>\n",
       "    <tr>\n",
       "      <th>Ash_Alcanity</th>\n",
       "      <td>-0.841093</td>\n",
       "      <td>1.076332</td>\n",
       "      <td>0.406208</td>\n",
       "      <td>11.152686</td>\n",
       "      <td>-3.974760</td>\n",
       "      <td>-0.671149</td>\n",
       "      <td>-1.172083</td>\n",
       "      <td>0.150422</td>\n",
       "      <td>-0.377176</td>\n",
       "      <td>0.145024</td>\n",
       "      <td>-0.209118</td>\n",
       "      <td>-0.656234</td>\n",
       "      <td>-463.355345</td>\n",
       "    </tr>\n",
       "    <tr>\n",
       "      <th>Magnesium</th>\n",
       "      <td>3.139878</td>\n",
       "      <td>-0.870780</td>\n",
       "      <td>1.122937</td>\n",
       "      <td>-3.974760</td>\n",
       "      <td>203.989335</td>\n",
       "      <td>1.916470</td>\n",
       "      <td>2.793087</td>\n",
       "      <td>-0.455563</td>\n",
       "      <td>1.932832</td>\n",
       "      <td>6.620521</td>\n",
       "      <td>0.180851</td>\n",
       "      <td>0.669308</td>\n",
       "      <td>1769.158700</td>\n",
       "    </tr>\n",
       "    <tr>\n",
       "      <th>Total_Phenols</th>\n",
       "      <td>0.146887</td>\n",
       "      <td>-0.234338</td>\n",
       "      <td>0.022146</td>\n",
       "      <td>-0.671149</td>\n",
       "      <td>1.916470</td>\n",
       "      <td>0.391690</td>\n",
       "      <td>0.540470</td>\n",
       "      <td>-0.035045</td>\n",
       "      <td>0.219373</td>\n",
       "      <td>-0.079998</td>\n",
       "      <td>0.062039</td>\n",
       "      <td>0.311021</td>\n",
       "      <td>98.171057</td>\n",
       "    </tr>\n",
       "    <tr>\n",
       "      <th>Flavanoids</th>\n",
       "      <td>0.192033</td>\n",
       "      <td>-0.458630</td>\n",
       "      <td>0.031535</td>\n",
       "      <td>-1.172083</td>\n",
       "      <td>2.793087</td>\n",
       "      <td>0.540470</td>\n",
       "      <td>0.997719</td>\n",
       "      <td>-0.066867</td>\n",
       "      <td>0.373148</td>\n",
       "      <td>-0.399169</td>\n",
       "      <td>0.124082</td>\n",
       "      <td>0.558262</td>\n",
       "      <td>155.447492</td>\n",
       "    </tr>\n",
       "    <tr>\n",
       "      <th>Nonflavanoid_Phenols</th>\n",
       "      <td>-0.015754</td>\n",
       "      <td>0.040733</td>\n",
       "      <td>0.006358</td>\n",
       "      <td>0.150422</td>\n",
       "      <td>-0.455563</td>\n",
       "      <td>-0.035045</td>\n",
       "      <td>-0.066867</td>\n",
       "      <td>0.015489</td>\n",
       "      <td>-0.026060</td>\n",
       "      <td>0.040121</td>\n",
       "      <td>-0.007471</td>\n",
       "      <td>-0.044469</td>\n",
       "      <td>-12.203586</td>\n",
       "    </tr>\n",
       "    <tr>\n",
       "      <th>Proanthocyanins</th>\n",
       "      <td>0.063518</td>\n",
       "      <td>-0.141147</td>\n",
       "      <td>0.001516</td>\n",
       "      <td>-0.377176</td>\n",
       "      <td>1.932832</td>\n",
       "      <td>0.219373</td>\n",
       "      <td>0.373148</td>\n",
       "      <td>-0.026060</td>\n",
       "      <td>0.327595</td>\n",
       "      <td>-0.033504</td>\n",
       "      <td>0.038665</td>\n",
       "      <td>0.210933</td>\n",
       "      <td>59.554334</td>\n",
       "    </tr>\n",
       "    <tr>\n",
       "      <th>Color_Intensity</th>\n",
       "      <td>1.028283</td>\n",
       "      <td>0.644838</td>\n",
       "      <td>0.164654</td>\n",
       "      <td>0.145024</td>\n",
       "      <td>6.620521</td>\n",
       "      <td>-0.079998</td>\n",
       "      <td>-0.399169</td>\n",
       "      <td>0.040121</td>\n",
       "      <td>-0.033504</td>\n",
       "      <td>5.374449</td>\n",
       "      <td>-0.276506</td>\n",
       "      <td>-0.705813</td>\n",
       "      <td>230.767480</td>\n",
       "    </tr>\n",
       "    <tr>\n",
       "      <th>Hue</th>\n",
       "      <td>-0.013313</td>\n",
       "      <td>-0.143326</td>\n",
       "      <td>-0.004682</td>\n",
       "      <td>-0.209118</td>\n",
       "      <td>0.180851</td>\n",
       "      <td>0.062039</td>\n",
       "      <td>0.124082</td>\n",
       "      <td>-0.007471</td>\n",
       "      <td>0.038665</td>\n",
       "      <td>-0.276506</td>\n",
       "      <td>0.052245</td>\n",
       "      <td>0.091766</td>\n",
       "      <td>17.000223</td>\n",
       "    </tr>\n",
       "    <tr>\n",
       "      <th>OD280</th>\n",
       "      <td>0.041698</td>\n",
       "      <td>-0.292447</td>\n",
       "      <td>0.000762</td>\n",
       "      <td>-0.656234</td>\n",
       "      <td>0.669308</td>\n",
       "      <td>0.311021</td>\n",
       "      <td>0.558262</td>\n",
       "      <td>-0.044469</td>\n",
       "      <td>0.210933</td>\n",
       "      <td>-0.705813</td>\n",
       "      <td>0.091766</td>\n",
       "      <td>0.504086</td>\n",
       "      <td>69.927526</td>\n",
       "    </tr>\n",
       "    <tr>\n",
       "      <th>Proline</th>\n",
       "      <td>164.567185</td>\n",
       "      <td>-67.548867</td>\n",
       "      <td>19.319739</td>\n",
       "      <td>-463.355345</td>\n",
       "      <td>1769.158700</td>\n",
       "      <td>98.171057</td>\n",
       "      <td>155.447492</td>\n",
       "      <td>-12.203586</td>\n",
       "      <td>59.554334</td>\n",
       "      <td>230.767480</td>\n",
       "      <td>17.000223</td>\n",
       "      <td>69.927526</td>\n",
       "      <td>99166.717355</td>\n",
       "    </tr>\n",
       "  </tbody>\n",
       "</table>\n",
       "</div>"
      ],
      "text/plain": [
       "                         Alcohol  Malic_Acid        Ash  Ash_Alcanity  \\\n",
       "Alcohol                 0.659062    0.085611   0.047115     -0.841093   \n",
       "Malic_Acid              0.085611    1.248015   0.050277      1.076332   \n",
       "Ash                     0.047115    0.050277   0.075265      0.406208   \n",
       "Ash_Alcanity           -0.841093    1.076332   0.406208     11.152686   \n",
       "Magnesium               3.139878   -0.870780   1.122937     -3.974760   \n",
       "Total_Phenols           0.146887   -0.234338   0.022146     -0.671149   \n",
       "Flavanoids              0.192033   -0.458630   0.031535     -1.172083   \n",
       "Nonflavanoid_Phenols   -0.015754    0.040733   0.006358      0.150422   \n",
       "Proanthocyanins         0.063518   -0.141147   0.001516     -0.377176   \n",
       "Color_Intensity         1.028283    0.644838   0.164654      0.145024   \n",
       "Hue                    -0.013313   -0.143326  -0.004682     -0.209118   \n",
       "OD280                   0.041698   -0.292447   0.000762     -0.656234   \n",
       "Proline               164.567185  -67.548867  19.319739   -463.355345   \n",
       "\n",
       "                        Magnesium  Total_Phenols  Flavanoids  \\\n",
       "Alcohol                  3.139878       0.146887    0.192033   \n",
       "Malic_Acid              -0.870780      -0.234338   -0.458630   \n",
       "Ash                      1.122937       0.022146    0.031535   \n",
       "Ash_Alcanity            -3.974760      -0.671149   -1.172083   \n",
       "Magnesium              203.989335       1.916470    2.793087   \n",
       "Total_Phenols            1.916470       0.391690    0.540470   \n",
       "Flavanoids               2.793087       0.540470    0.997719   \n",
       "Nonflavanoid_Phenols    -0.455563      -0.035045   -0.066867   \n",
       "Proanthocyanins          1.932832       0.219373    0.373148   \n",
       "Color_Intensity          6.620521      -0.079998   -0.399169   \n",
       "Hue                      0.180851       0.062039    0.124082   \n",
       "OD280                    0.669308       0.311021    0.558262   \n",
       "Proline               1769.158700      98.171057  155.447492   \n",
       "\n",
       "                      Nonflavanoid_Phenols  Proanthocyanins  Color_Intensity  \\\n",
       "Alcohol                          -0.015754         0.063518         1.028283   \n",
       "Malic_Acid                        0.040733        -0.141147         0.644838   \n",
       "Ash                               0.006358         0.001516         0.164654   \n",
       "Ash_Alcanity                      0.150422        -0.377176         0.145024   \n",
       "Magnesium                        -0.455563         1.932832         6.620521   \n",
       "Total_Phenols                    -0.035045         0.219373        -0.079998   \n",
       "Flavanoids                       -0.066867         0.373148        -0.399169   \n",
       "Nonflavanoid_Phenols              0.015489        -0.026060         0.040121   \n",
       "Proanthocyanins                  -0.026060         0.327595        -0.033504   \n",
       "Color_Intensity                   0.040121        -0.033504         5.374449   \n",
       "Hue                              -0.007471         0.038665        -0.276506   \n",
       "OD280                            -0.044469         0.210933        -0.705813   \n",
       "Proline                         -12.203586        59.554334       230.767480   \n",
       "\n",
       "                            Hue      OD280       Proline  \n",
       "Alcohol               -0.013313   0.041698    164.567185  \n",
       "Malic_Acid            -0.143326  -0.292447    -67.548867  \n",
       "Ash                   -0.004682   0.000762     19.319739  \n",
       "Ash_Alcanity          -0.209118  -0.656234   -463.355345  \n",
       "Magnesium              0.180851   0.669308   1769.158700  \n",
       "Total_Phenols          0.062039   0.311021     98.171057  \n",
       "Flavanoids             0.124082   0.558262    155.447492  \n",
       "Nonflavanoid_Phenols  -0.007471  -0.044469    -12.203586  \n",
       "Proanthocyanins        0.038665   0.210933     59.554334  \n",
       "Color_Intensity       -0.276506  -0.705813    230.767480  \n",
       "Hue                    0.052245   0.091766     17.000223  \n",
       "OD280                  0.091766   0.504086     69.927526  \n",
       "Proline               17.000223  69.927526  99166.717355  "
      ]
     },
     "execution_count": 68,
     "metadata": {},
     "output_type": "execute_result"
    }
   ],
   "source": [
    "cox = X.cov()\n",
    "cox"
   ]
  },
  {
   "cell_type": "code",
   "execution_count": 21,
   "metadata": {},
   "outputs": [],
   "source": [
    "from sklearn.decomposition import PCA\n",
    "pca = PCA(n_components=2)\n",
    "principalComponents = pca.fit_transform(X)\n",
    "principalDf = pd.DataFrame(data = principalComponents)\n",
    "plt.scatter(x = 'pc1', y = 'pc2', data = principalDf)"
   ]
  },
  {
   "cell_type": "code",
   "execution_count": 44,
   "metadata": {},
   "outputs": [],
   "source": [
    "### Standarization:\n",
    "from sklearn.preprocessing import StandardScaler\n",
    "# Separating out the features\n",
    "#x = X.values\n",
    "# Standardizing the features\n",
    "xstd = StandardScaler().fit_transform(X)"
   ]
  },
  {
   "cell_type": "code",
   "execution_count": 46,
   "metadata": {},
   "outputs": [],
   "source": [
    "from sklearn.decomposition import PCA\n",
    "pca = PCA(n_components = 13)\n",
    "principalComponents = pca.fit_transform(xstd)\n",
    "principalDf1 = pd.DataFrame(data = principalComponents)"
   ]
  },
  {
   "cell_type": "code",
   "execution_count": 35,
   "metadata": {},
   "outputs": [
    {
     "data": {
      "text/plain": [
       "<matplotlib.collections.PathCollection at 0x7fa4654fb3c8>"
      ]
     },
     "execution_count": 35,
     "metadata": {},
     "output_type": "execute_result"
    },
    {
     "data": {
      "image/png": "[encoded data removed]",
      "text/plain": [
       "<matplotlib.figure.Figure at 0x7fa4655768d0>"
      ]
     },
     "metadata": {},
     "output_type": "display_data"
    }
   ],
   "source": [
    "plt.scatter(x = 'pc1', y = 'pc2', data = principalDf1, c=itrain[''] )"
   ]
  },
  {
   "cell_type": "code",
   "execution_count": 48,
   "metadata": {},
   "outputs": [
    {
     "data": {
      "text/plain": [
       "array([0.36198848, 0.1920749 , 0.11123631, 0.0706903 , 0.06563294,\n",
       "       0.04935823, 0.04238679, 0.02680749, 0.02222153, 0.01930019,\n",
       "       0.01736836, 0.01298233, 0.00795215])"
      ]
     },
     "execution_count": 48,
     "metadata": {},
     "output_type": "execute_result"
    }
   ],
   "source": [
    "#The amount of variance that each PC explains\n",
    "var= pca.explained_variance_ratio_\n",
    "var"
   ]
  },
  {
   "cell_type": "code",
   "execution_count": 53,
   "metadata": {},
   "outputs": [
    {
     "data": {
      "text/plain": [
       "<Container object of 13 artists>"
      ]
     },
     "execution_count": 53,
     "metadata": {},
     "output_type": "execute_result"
    },
    {
     "data": {
      "image/png": "[encoded data removed]",
      "text/plain": [
       "<matplotlib.figure.Figure at 0x7fa4653688d0>"
      ]
     },
     "metadata": {},
     "output_type": "display_data"
    }
   ],
   "source": [
    "plt.bar(principalDf1.columns,var)"
   ]
  },
  {
   "cell_type": "code",
   "execution_count": 49,
   "metadata": {},
   "outputs": [],
   "source": [
    "#Cumulative Variance explains\n",
    "var1=np.cumsum(np.round(pca.explained_variance_ratio_, decimals=4)*100)"
   ]
  },
  {
   "cell_type": "code",
   "execution_count": 50,
   "metadata": {},
   "outputs": [
    {
     "data": {
      "text/plain": [
       "[<matplotlib.lines.Line2D at 0x7fa465350f98>]"
      ]
     },
     "execution_count": 50,
     "metadata": {},
     "output_type": "execute_result"
    },
    {
     "data": {
      "image/png": "[encoded data removed]",
      "text/plain": [
       "<matplotlib.figure.Figure at 0x7fa4654837f0>"
      ]
     },
     "metadata": {},
     "output_type": "display_data"
    }
   ],
   "source": [
    "plt.plot(var1)"
   ]
  }
 ],
 "metadata": {
  "kernelspec": {
   "display_name": "Python 3",
   "language": "python",
   "name": "python3"
  },
  "language_info": {
   "codemirror_mode": {
    "name": "ipython",
    "version": 3
   },
   "file_extension": ".py",
   "mimetype": "text/x-python",
   "name": "python",
   "nbconvert_exporter": "python",
   "pygments_lexer": "ipython3",
   "version": "3.6.4"
  }
 },
 "nbformat": 4,
 "nbformat_minor": 2
}
