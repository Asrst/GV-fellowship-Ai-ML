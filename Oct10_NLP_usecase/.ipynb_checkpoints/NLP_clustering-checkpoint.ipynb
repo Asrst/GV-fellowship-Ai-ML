{
 "cells": [
  {
   "cell_type": "code",
   "execution_count": 176,
   "metadata": {},
   "outputs": [],
   "source": [
    "import lightgbm\n",
    "import catboost\n",
    "import yellowbrick\n",
    "import nltk\n",
    "import os\n",
    "import warnings\n",
    "warnings.filterwarnings('ignore')\n",
    "%matplotlib inline"
   ]
  },
  {
   "cell_type": "code",
   "execution_count": 16,
   "metadata": {},
   "outputs": [],
   "source": [
    "path  = os.getcwd()"
   ]
  },
  {
   "cell_type": "code",
   "execution_count": 108,
   "metadata": {},
   "outputs": [
    {
     "name": "stdout",
     "output_type": "stream",
     "text": [
      "['\\ufeff', 'The', 'Project', 'Gutenberg', 'EBook', 'of', 'War', 'and', 'Peace,', 'by']\n"
     ]
    }
   ],
   "source": [
    "f = open(path + '/War_And_Peace.txt').read()   # open the text\n",
    "# w = f.split()\n",
    "# print(w[:10])"
   ]
  },
  {
   "cell_type": "code",
   "execution_count": 147,
   "metadata": {},
   "outputs": [
    {
     "name": "stdout",
     "output_type": "stream",
     "text": [
      "But I warn you, if you don’t tell me that this means war,\n",
      "if you still try to defend the infamies and horrors perpetrated by that\n",
      "Antichrist—I really believe he is Antichrist—I will have nothing\n",
      "more to do with you and you are no longer my friend, no longer my\n",
      "‘faithful slave,’ as you call yourself!\n"
     ]
    }
   ],
   "source": [
    "# Split into Sentences -------\n",
    "\n",
    "from nltk import sent_tokenize\n",
    "sentences = sent_tokenize(f)\n",
    "print(sentences[2])"
   ]
  },
  {
   "cell_type": "code",
   "execution_count": 235,
   "metadata": {},
   "outputs": [
    {
     "name": "stdout",
     "output_type": "stream",
     "text": [
      "[['but', 'how', 'do', 'you', 'do'], ['i', 'see', 'i', 'have', 'frightened', 'you', 'sit', 'down', 'and', 'tell', 'me', 'all', 'the', 'news', 'it', 'was', 'in', 'july', 'and', 'the', 'speaker', 'was', 'the', 'well', 'known', 'anna', 'p', 'vlovna', 'sch', 'rer', 'maid', 'of', 'honor', 'and', 'favorite', 'of', 'the', 'empress', 'm', 'rya', 'f', 'dorovna'], ['with', 'these', 'words', 'she', 'greeted', 'prince', 'vas', 'li', 'kur', 'gin', 'a', 'man', 'of', 'high', 'rank', 'and', 'importance', 'who', 'was', 'the', 'first', 'to', 'arrive', 'at', 'her', 'reception']]\n",
      "\n",
      " 26547\n"
     ]
    }
   ],
   "source": [
    "# cleaning the Sentences ------\n",
    "\n",
    "from nltk import word_tokenize\n",
    "\n",
    "sent_cleaned = []\n",
    "\n",
    "for i in range(0, len(sentences)):\n",
    "    letters_only = re.sub(\"[^a-zA-Z]\", \" \", sentences[i])\n",
    "    words = word_tokenize(letters_only)  \n",
    "    lower_words = [word.lower() for word in words]\n",
    "    sent_cleaned.append(lower_words)\n",
    "\n",
    "print(sent_cleaned[3:6])\n",
    "print('\\n', len(sent_cleaned))"
   ]
  },
  {
   "cell_type": "markdown",
   "metadata": {},
   "source": [
    "### N-Grams using NLTK"
   ]
  },
  {
   "cell_type": "code",
   "execution_count": 204,
   "metadata": {},
   "outputs": [
    {
     "name": "stdout",
     "output_type": "stream",
     "text": [
      "[('\\ufeff', 'the'), ('the', 'project'), ('project', 'gutenberg'), ('gutenberg', 'ebook'), ('ebook', 'of'), ('of', 'war'), ('war', 'and'), ('and', 'peace'), ('peace', ','), (',', 'by')]\n"
     ]
    },
    {
     "data": {
      "text/plain": [
       "[]"
      ]
     },
     "execution_count": 204,
     "metadata": {},
     "output_type": "execute_result"
    }
   ],
   "source": [
    "import re, string, collections\n",
    "from nltk.util import ngrams # function for making ngrams\n",
    "\n",
    "bigrams = ngrams(words, 2)\n",
    "print(list(bigrams)[:10])\n",
    "\n",
    "# get the frequency of each bigram in our corpus\n",
    "bigramFreq = collections.Counter(bigrams)\n",
    "\n",
    "# what are the ten most popular ngrams?\n",
    "bigramFreq.most_common(10)"
   ]
  },
  {
   "cell_type": "markdown",
   "metadata": {},
   "source": [
    "### USING GENSIM"
   ]
  },
  {
   "cell_type": "code",
   "execution_count": 217,
   "metadata": {},
   "outputs": [
    {
     "name": "stdout",
     "output_type": "stream",
     "text": [
      "['but', 'i', 'warn', 'you', 'if', 'you', 'don_t', 'tell_me', 'that', 'this', 'means', 'war', 'if', 'you', 'still', 'try', 'to', 'defend', 'the', 'infamies', 'and', 'horrors', 'perpetrated', 'by', 'that', 'antichrist', 'i', 'really', 'believe', 'he', 'is', 'antichrist', 'i', 'will', 'have', 'nothing', 'more', 'to', 'do', 'with', 'you', 'and', 'you', 'are', 'no_longer', 'my_friend', 'no_longer', 'my', 'faithful', 'slave', 'as', 'you', 'call', 'yourself']\n"
     ]
    }
   ],
   "source": [
    "from gensim.models.phrases import Phrases\n",
    "\n",
    "bigrams = Phrases(sent_cleaned)\n",
    "print(bigrams[sent_cleaned[2]])"
   ]
  },
  {
   "cell_type": "code",
   "execution_count": 200,
   "metadata": {},
   "outputs": [
    {
     "data": {
      "text/plain": [
       "['project_gutenberg', 'is', 'one', 'very_important', 'project']"
      ]
     },
     "execution_count": 200,
     "metadata": {},
     "output_type": "execute_result"
    }
   ],
   "source": [
    "bigrams['project gutenberg is one very important project'.split()]"
   ]
  },
  {
   "cell_type": "markdown",
   "metadata": {},
   "source": [
    "### WORD TO VEC USING GENSIM"
   ]
  },
  {
   "cell_type": "markdown",
   "metadata": {},
   "source": [
    "**Architecture:**\n",
    "Architecture options are skip-gram (default) or continuous bag of words. We found that skip-gram was very slightly slower but produced better results.\n",
    "\n",
    "**Training algorithm:**\n",
    "Hierarchical softmax (default) or negative sampling.\n",
    "\n",
    "**Downsampling of frequent words:**\n",
    "The Google documentation recommends values between .00001 and .001. values\n",
    "\n",
    "**Word vector dimensionality:**\n",
    "More features result in longer runtimes, and often, but not always, result in better models. Reasonable values can be in the tens to hundreds\n",
    "\n",
    "**Context / window size:**\n",
    "How many words of context should the training algorithm take into account? 10 seems to work well for hierarchical softmax (more is better, up to a point)\n",
    "\n",
    "**Worker threads:**\n",
    "Number of parallel processes to run. This is computer-specific, but between 4 and 6 should work on most systems\n",
    "\n",
    "**Minimum word count:**\n",
    "This helps limit the size of the vocabulary to meaningful words. Any word that does not occur at least this many times across all documents is ignored."
   ]
  },
  {
   "cell_type": "code",
   "execution_count": 279,
   "metadata": {},
   "outputs": [],
   "source": [
    "from gensim.models import word2vec\n",
    "bigrams = Phrases(sent_cleaned)\n",
    "model = word2vec.Word2Vec(bigrams[sent_cleaned], size= 300,  iter = 25)"
   ]
  },
  {
   "cell_type": "code",
   "execution_count": 280,
   "metadata": {},
   "outputs": [
    {
     "name": "stdout",
     "output_type": "stream",
     "text": [
      "7674\n",
      "['the', 'project_gutenberg', 'ebook', 'of', 'war', 'and', 'peace', 'by', 'this', 'is', 'for', 'use', 'anyone', 'anywhere', 'at', 'no', 'cost', 'with', 'almost', 'you', 'may', 'copy', 'it', 'give', 'away', 'or', 're', 'under', 'terms', 'license', 'included', 'www', 'gutenberg_org', 'title', 'author', 'date', 'january', 'last', 'december', 'language', 'english', 'character', 'set', 'start', 'an', 'david', 'contents', 'book', 'one', 'chapter', 'i', 'chapter_ii', 'chapter_iii', 'chapter_iv', 'v', 'chapter_vi', 'chapter_vii', 'chapter_viii', 'chapter_ix', 'chapter_x', 'chapter_xi', 'chapter_xii', 'chapter_xiii', 'chapter_xiv', 'chapter_xv', 'chapter_xvi', 'chapter_xvii', 'chapter_xviii', 'chapter_xix', 'chapter_xx', 'chapter_xxi', 'chapter_xxii', 'chapter_xxiii', 'chapter_xxiv', 'chapter_xxv', 'chapter_xxvi', 'chapter_xxvii', 'chapter_xxviii', 'two', 'three', 'four', 'five', 'six', 'seven', 'eight', 'nine', 'ten', 'eleven', 'twelve', 'thirteen', 'fourteen', 'fifteen', 'first', 'second', 'well', 'prince', 'so', 'are', 'now', 'just', 'family', 'estates', 'but', 'warn', 'if', 'don_t', 'tell_me', 'that', 'means', 'still', 'try', 'to', 'defend', 'horrors', 'antichrist', 'really', 'believe', 'he', 'will', 'have', 'nothing', 'more', 'do', 'no_longer', 'my_friend', 'my', 'faithful', 'slave', 'as', 'call', 'yourself', 'how', 'do_you', 'see', 'frightened', 'sit_down', 'all', 'news', 'was', 'in', 'july', 'speaker', 'well_known', 'anna_p', 'vlovna', 'sch_rer', 'maid', 'honor', 'favorite', 'empress', 'm_rya', 'f_dorovna', 'these_words', 'she', 'greeted', 'prince_vas', 'li', 'kur_gin', 'a', 'man', 'high', 'rank', 'importance', 'who', 'arrive_at', 'her', 'reception', 'had', 'cough', 'some', 'days', 'said', 'suffering', 'from', 'la', 'being', 'then', 'new', 'word', 'st', 'petersburg', 'used', 'only', 'without_exception', 'written', 'french', 'delivered', 'footman', 'morning', 'ran', 'as_follows', 'better', 'count', 'prospect', 'spending', 'evening', 'poor', 'invalid', 'not', 'too', 'terrible', 'i_shall', 'be', 'very', 'tonight', 'between', 'annette', 'heavens', 'what', 'attack', 'replied', 'least', 'disconcerted', 'entered', 'wearing', 'embroidered', 'court', 'uniform', 'knee', 'breeches', 'shoes', 'stars', 'on', 'his', 'breast', 'serene', 'expression', 'flat', 'face', 'spoke', 'refined', 'which', 'our', 'thought', 'gentle', 'intonation', 'natural', 'had_grown', 'old', 'society', 'went_up', 'kissed_her', 'hand', 'presenting', 'bald', 'scented', 'shining', 'head', 'seated_himself', 'sofa']\n"
     ]
    }
   ],
   "source": [
    "learned_words = list(model.wv.vocab)\n",
    "print(len(learned_words))\n",
    "print(learned_words[:250])"
   ]
  },
  {
   "cell_type": "code",
   "execution_count": 281,
   "metadata": {},
   "outputs": [
    {
     "name": "stdout",
     "output_type": "stream",
     "text": [
      "[-0.14514215 -0.04338431 -0.06920157 -0.36236247  0.0656373   0.15002352\n",
      "  0.28601423 -0.25237313  0.10228983  0.06674651  0.01841544 -0.13933977\n",
      " -0.02226907 -0.11385123 -0.11149202 -0.01277517 -0.1055854   0.03904133\n",
      "  0.13403833  0.01964328  0.05345912 -0.03925696 -0.18697304 -0.04054653\n",
      "  0.04498734 -0.19764951 -0.29398298  0.04486386 -0.18599753  0.09890824\n",
      "  0.00837609  0.04172487  0.03332953 -0.2202002  -0.32518634 -0.10326681\n",
      " -0.08528043  0.22547413 -0.02833618 -0.12140726  0.13287829  0.00797056\n",
      " -0.09631893  0.11695778  0.02960043  0.05904861 -0.06980024 -0.05023947\n",
      "  0.14030723 -0.06014362  0.00072244  0.10769995 -0.14573005 -0.06450194\n",
      " -0.00480031 -0.2067515   0.04766944 -0.10538395  0.06211122  0.02801398\n",
      "  0.12804733 -0.03750115 -0.05644224 -0.01589645 -0.17424968  0.03210106\n",
      "  0.06518596 -0.14251724  0.18331547 -0.11730064 -0.04463675 -0.05916226\n",
      "  0.09417838 -0.19970463  0.10422186  0.06839622 -0.1358118   0.19612698\n",
      "  0.01531995 -0.30040494 -0.00594454 -0.03075839  0.02913122  0.07926289\n",
      "  0.08608685  0.00477609 -0.13825896  0.29196027 -0.2121959   0.10121404\n",
      " -0.05099387 -0.18868358 -0.00280547 -0.09475901  0.08719233  0.26114807\n",
      "  0.13543251  0.11794724 -0.04921123  0.07291534 -0.06677333  0.06775212\n",
      " -0.09722701 -0.02193397 -0.02369612  0.11186431 -0.1881884  -0.10767522\n",
      " -0.05339786  0.2175078   0.01185649  0.09600487  0.03801266  0.01998007\n",
      " -0.03991988  0.19957714  0.19592094  0.28318077  0.03506007 -0.07536667\n",
      "  0.02848717 -0.10903669  0.20734353 -0.26415148  0.04206092 -0.0934613\n",
      " -0.2004672  -0.15283237 -0.04982771 -0.11799502  0.09472048  0.2494664\n",
      "  0.05360767  0.12164488  0.08031831 -0.1299382  -0.09754033 -0.00763258\n",
      "  0.15819936 -0.13483931 -0.23634636 -0.17829289  0.09161081  0.16298287\n",
      "  0.2656591  -0.17620954 -0.09415835  0.03354302 -0.11405241  0.13888784\n",
      " -0.0516697  -0.16513924  0.16295484  0.06182196  0.14987615 -0.09565811\n",
      "  0.13319808  0.0427427   0.08728202 -0.19883054 -0.0058463   0.25246853\n",
      " -0.08536324  0.02929178 -0.09952059  0.12203149 -0.02402035 -0.20810439\n",
      "  0.22648086 -0.26729098 -0.10684405  0.18999715  0.00045593 -0.03037718\n",
      "  0.12954634  0.22045034 -0.007676   -0.08368155 -0.1979998  -0.08896894\n",
      "  0.15050322 -0.1299403   0.1918911  -0.04697379  0.00568794 -0.10144366\n",
      " -0.09628946  0.14619863 -0.10318712 -0.21743546  0.0687029  -0.11401644\n",
      " -0.05998686 -0.09769511  0.18901893 -0.06570113 -0.0015126  -0.0686909\n",
      "  0.44027874 -0.00483118 -0.15427758  0.06095172  0.00344824  0.2313074\n",
      " -0.15182482  0.19980691  0.06120192 -0.05494212  0.02060415 -0.03426863\n",
      "  0.19889674  0.08665362  0.23806746  0.28563553  0.04088347 -0.15859777\n",
      "  0.1828596   0.03528266  0.01807544  0.02518519 -0.06214669  0.10792653\n",
      " -0.01423721  0.07624416 -0.06335472 -0.07041419 -0.24789463  0.01695414\n",
      " -0.12796691  0.05054931 -0.187663   -0.0022497  -0.14643659  0.11435533\n",
      " -0.13196297 -0.01430678  0.15787716  0.11870941  0.4501331   0.161995\n",
      " -0.0655378  -0.0470978   0.06376814 -0.15206583 -0.06435717  0.09386487\n",
      " -0.01688835 -0.10418747 -0.17204596 -0.1369397  -0.16545023  0.0716049\n",
      "  0.26633933  0.08565852 -0.25667903 -0.15439574  0.03288767  0.16983233\n",
      "  0.10290463 -0.01457514 -0.00831757  0.06039649  0.1693544   0.23132518\n",
      " -0.14796074 -0.11934476  0.07387513 -0.23404494 -0.02989272 -0.20228346\n",
      "  0.18467294 -0.01766836  0.13746881 -0.18875077  0.05311282 -0.13470319\n",
      "  0.23906694 -0.00832074  0.07760539 -0.05524657  0.05326673  0.08183448\n",
      " -0.18821436 -0.04066148 -0.08942315 -0.21538891  0.24096121 -0.12062431\n",
      " -0.10713638 -0.2475777  -0.0665234  -0.04719462 -0.13626048  0.18448742\n",
      " -0.13458411 -0.25650433  0.07879711  0.04072648 -0.03981509  0.14154199]\n"
     ]
    }
   ],
   "source": [
    "print(model['project'])"
   ]
  },
  {
   "cell_type": "code",
   "execution_count": 282,
   "metadata": {},
   "outputs": [
    {
     "data": {
      "text/plain": [
       "[('favor', 0.6536598205566406),\n",
       " ('advantage', 0.6423513889312744),\n",
       " ('sake', 0.628666877746582),\n",
       " ('execution', 0.6259768009185791),\n",
       " ('pupil', 0.6246033310890198),\n",
       " ('consent', 0.6200554370880127),\n",
       " ('blessing', 0.61712646484375),\n",
       " ('advice', 0.6168011426925659),\n",
       " ('misfortunes', 0.6121727228164673),\n",
       " ('ancient_capital', 0.6077005863189697)]"
      ]
     },
     "execution_count": 282,
     "metadata": {},
     "output_type": "execute_result"
    }
   ],
   "source": [
    "model.wv.most_similar('project')"
   ]
  },
  {
   "cell_type": "code",
   "execution_count": 283,
   "metadata": {},
   "outputs": [
    {
     "data": {
      "text/plain": [
       "(7674, 300)"
      ]
     },
     "execution_count": 283,
     "metadata": {},
     "output_type": "execute_result"
    }
   ],
   "source": [
    "model.wv.syn0.shape"
   ]
  },
  {
   "cell_type": "code",
   "execution_count": 284,
   "metadata": {},
   "outputs": [
    {
     "data": {
      "image/png": "[encoded data removed]",
      "text/plain": [
       "<Figure size 432x288 with 1 Axes>"
      ]
     },
     "metadata": {},
     "output_type": "display_data"
    }
   ],
   "source": [
    "import numpy as np\n",
    "from sklearn.decomposition import PCA\n",
    "import matplotlib.pyplot as plt\n",
    "\n",
    "X = model[model.wv.vocab]\n",
    "pca = PCA(n_components=2)\n",
    "result = pca.fit_transform(X)\n",
    "\n",
    "# create a scatter plot of the projection\n",
    "plt.scatter(result[:25][:, 0], result[:25][:, 1])\n",
    "words = list(model.wv.vocab)\n",
    "\n",
    "for i, word in enumerate(words[:25]):\n",
    "    plt.annotate(word, xy=(result[i, 0], result[i, 1]))\n",
    "plt.show()"
   ]
  },
  {
   "cell_type": "code",
   "execution_count": 285,
   "metadata": {},
   "outputs": [],
   "source": [
    "from sklearn.cluster import KMeans\n",
    "import time\n",
    "\n",
    "# average of 5 words per cluster\n",
    "word_vectors = model.wv.syn0\n",
    "num_clusters = int(word_vectors.shape[0] /10)\n",
    "\n",
    "# Initalize a k-means object and use it to extract centroids\n",
    "kmeans_clustering = KMeans(n_clusters = num_clusters )\n",
    "idx = kmeans_clustering.fit_predict(word_vectors)"
   ]
  },
  {
   "cell_type": "code",
   "execution_count": 286,
   "metadata": {},
   "outputs": [
    {
     "data": {
      "text/plain": [
       "['the', 'and', 'to', 'of', 'a']"
      ]
     },
     "execution_count": 286,
     "metadata": {},
     "output_type": "execute_result"
    }
   ],
   "source": [
    "model.wv.index2word[:5]"
   ]
  },
  {
   "cell_type": "code",
   "execution_count": 287,
   "metadata": {},
   "outputs": [
    {
     "name": "stdout",
     "output_type": "stream",
     "text": [
      "7674\n",
      "766\n",
      "767\n"
     ]
    }
   ],
   "source": [
    "print(len(idx))\n",
    "print(idx.max())\n",
    "print(len(set(idx)))"
   ]
  },
  {
   "cell_type": "code",
   "execution_count": 288,
   "metadata": {},
   "outputs": [
    {
     "name": "stdout",
     "output_type": "stream",
     "text": [
      "\n",
      "Cluster 0\n",
      "['steps', 'close', 'open', 'heavy']\n",
      "\n",
      "Cluster 1\n",
      "['married', 'enough', 'at_home', 'alive', 'added', 'one_thing', 'very_much', 'forever', 'younger', 'tired', 'little_nicholas', 'match', 'sorry', 'unhappy', 'lovely', 'my_wife', 'fun', 'grateful', 'mistaken', 'my_friend', 'no_doubt', 'joking', 'how_happy', 'at_otr', 'dnoe', 'an_excellent', 'assented']\n",
      "\n",
      "Cluster 2\n",
      "['fifteen', 'among_them', 'forty', 'gathered', 'sick', 'private', 'less_than', 'hundreds_of', 'nine', 'sixteen', 'eating', 'fallen', 'few', 'dozen', 'how_many', 'gentry', 'fifty', 'serf', 'worn_out', 'two_hundred', 'hundred_thousand', 'officials', 'twelve', 'thirteen', 'recently', 'sixty', 'an_immense', 'ten_thousand', 'thousand_rubles', 'fourteen', 'wives', 'decorations', 'five_hundred', 'twenty_thousand', 'fifty_thousand', 'some_twenty', 'eighteen', 'wolves', 'tens', 'six_thousand', 'forty_three']\n",
      "\n",
      "Cluster 3\n",
      "['might_be', 'far_as', 'without_any', 'anywhere', 'abandoning', 'proper', 'final', 'burn', 'seize', 'support', 'thereby', 'unite', 'defend', 'abandon', 'cut_off', 'produce', 'consequently', 'perform', 'secure', 'occupy', 'perish', 'responsibility', 'await', 'surrender', 'examine', 'execute', 'commit', 'shoot', 'protection', 'arrive_at', 'strengthen', 'select', 'violence', 'collect', 'issue', 'transfer', 'overthrow', 'restore', 'outflank', 'retain', 'connection_between', 'bar']\n",
      "\n",
      "Cluster 4\n",
      "['twice', 'k', 'meanwhile', 'lieutenant', 'greeting', 'coming_out', 'hit', 'senior', 'in_attendance', 'guide', 'spot_where', 'front_line', 'assigned', 'reduced', 'mount', 'don', 'standing_before', 'traveler', 'ts', 'delivered', 'conducted', 'pole', 'third_company', 'composed', 'fed', 'helping', 'having_reached', 'rushed_out', 'quartered', 'moving_toward', 'an_orderly', 'nka', 'detained', 'standing_beside', 'dispatched', 'accompanying', 'reined', 'guardsman', 'sem_nov', 'galloped_off', 'spurred', 'saddled', 'watchman_s', 'stopped_beside', 'dressing_station', 'swept', 'bay', 'shaft', 'discharged', 'torn_off', 'donned', 'large_crowd', 'naval', 'student', 'overtaken', 'bedouin', 'sighted', 'shcherb', 'notorious', 'mounting', 'bobtailed', 'sleek']\n",
      "\n",
      "Cluster 5\n",
      "['considered', 'recognized', 'shown', 'regarded', 'imagined', 'believed']\n",
      "\n",
      "Cluster 6\n",
      "['effort', 'further', 'food', 'finding', 'reasons', 'paid', 'permission', 'an_instant', 'pretext', 'delay', 'an_attack', 'opportunity', 'some_reason', 'search', 'arrangements', 'signs', 'debts', 'somebody', 'preparations', 'three_days', 'answers', 'passion', 'these_questions', 'sufficient', 'occasion', 'attempt', 'most_part', 'consideration', 'commission', 'easier', 'brief', 'exchange', 'examination', 'responsible', 'punishment', 'consequences', 'obtaining', 'expense', 'receipt']\n",
      "\n",
      "Cluster 7\n",
      "['harmful', 'masonic', 'required', 'secondly', 'kings', 'execution', 'standards', 'prussian', 'civil', 'politics', 'rewards', 'sacred', 'madame_de', 'skillful', 'allies', 'buxh_wden', 'murder', 'honors', 'negotiations', 'our_sovereign', 'oldenburg', 'russian_commanders', 'thiers', 'subsequently', 'equipment', 'italy', 'throughout', 'victory_over', 'victories', 'heroism', 'attacks', 'successfully', 'guerrilla', 'ministers', 'projects', 'measures', 'carrying_out', 'ze', 'treachery', 'agreement', 'term', 'benefit', 'diplomatists', 'rome', 'advisers', 'perishing', 'flank_march', 'may_perhaps', 'legal', 'mathematics', 'strict', 'articles', 'proposals', 'junction', 'mountains', 'negotiate', 'contained', 'siberia', 'assistance', 'planned', 'contingencies', 'thirdly', 'so_forth', 'napoleonic', 'information_about', 'directed_against', 're_establish', 'stein', 'n_zhni', 'exile', 'common_sense', 'conquer', 'clergy', 'endurance', 'operate', 'subordinate', 'archduke', 'participation', 'disgrace', 'karl', 'orthodox', 'berlin', 'entire', 'points', 'seniority', 'government_offices', 'prescribed', 'strategic', 'operations', 'laid_down', 'additional', 'undertaken', 'crowned', 'russian_soil', 'dependent', 'any_particular', 'vice_king', 'pglaf_org', 'military_service', 'in_chief', 'calculated', 'mortier', 'forage', 'charitable', 'deeds', 'profit', 'founded', 'xvi', 'variously', 'payments', 'logic', 'administrative', 'ambition', 'disputes', 'exact', 'western', 'vistula', 'real_power', 'x', 'director', 'friant', 'tactics', 'claim', 'justifications', 'sta_l', 'tax', 'wrongs', 'convention', 'prussians', 'cabinet', 'devise', 'maneuver', 'depends', 'permitted', 'jena', 'decreed', 'frontiers', 'napol', 'decrees', 'appointments', 'paragraphs', 'republican', 'rd', 'dukes', 'talleyrand', 'charles', 'organized', 'applicable', 'educational', 'contributions', 'leppich', 'located', 'philanthropy', 'gravitation', 'compliance']\n",
      "\n",
      "Cluster 8\n",
      "['sister']\n",
      "\n",
      "Cluster 9\n",
      "['hearing', 'reading', 'repeating', 'writing', 'finishing']\n"
     ]
    }
   ],
   "source": [
    "# Create a Word to Cluster mapping                                                                                          \n",
    "word_centroid_map = dict(zip( model.wv.index2word, idx ))\n",
    "\n",
    "# For the first 10 clusters\n",
    "for cluster in range(0,10):\n",
    "    #\n",
    "    # Print the cluster number  \n",
    "    print(\"\\nCluster %d\" % cluster)\n",
    "    #\n",
    "    # Find all of the words for that cluster number\n",
    "    words = []\n",
    "    for key, value in word_centroid_map.items():\n",
    "        if value == cluster:\n",
    "            words.append(key)\n",
    "    print(words)"
   ]
  },
  {
   "cell_type": "code",
   "execution_count": 289,
   "metadata": {},
   "outputs": [
    {
     "data": {
      "text/plain": [
       "<matplotlib.collections.PathCollection at 0x7f58b2eb79e8>"
      ]
     },
     "execution_count": 289,
     "metadata": {},
     "output_type": "execute_result"
    },
    {
     "data": {
      "image/png": "[encoded data removed]",
      "text/plain": [
       "<Figure size 432x288 with 1 Axes>"
      ]
     },
     "metadata": {},
     "output_type": "display_data"
    }
   ],
   "source": [
    "pca = PCA(n_components=2)\n",
    "res = pca.fit_transform(word_vectors)\n",
    "\n",
    "\n",
    "# create a scatter plot of the projection\n",
    "plt.scatter(res[:250][:, 0], res[:250][:, 1], c = idx[:250], s = 50, cmap='coolwarm')"
   ]
  },
  {
   "cell_type": "code",
   "execution_count": 295,
   "metadata": {},
   "outputs": [],
   "source": [
    "# import seaborn as sns\n",
    "# from sklearn.metrics.pairwise import euclidean_distances\n",
    "# euclidean_distances(word_vectors[5].reshape(-1, 1), word_vectors[5].reshape(-1, 1))\n",
    "# #sns.heatmap(word_vectors[:5])"
   ]
  },
  {
   "cell_type": "code",
   "execution_count": null,
   "metadata": {},
   "outputs": [],
   "source": [
    "# #stemming\n",
    "# from nltk.stem import PorterStemmer\n",
    "# from nltk.tokenize import sent_tokenize, word_tokenize\n",
    "\n",
    "# ps = PorterStemmer()\n",
    "\n",
    "# for w in words_nostopwords[20:30]:\n",
    "#     print(ps.stem(w))\n",
    "\n",
    "\n",
    "# from nltk.stem import WordNetLemmatizer\n",
    "\n",
    "# lemmatizer = WordNetLemmatizer()\n",
    "\n",
    "# print(lemmatizer.lemmatize(\"sex\"))\n",
    "# print(lemmatizer.lemmatize(\"sexy\"))\n",
    "# print(lemmatizer.lemmatize(\"sexiest\"))"
   ]
  },
  {
   "cell_type": "markdown",
   "metadata": {},
   "source": [
    "### LANGUAGE MODEL"
   ]
  },
  {
   "cell_type": "code",
   "execution_count": 297,
   "metadata": {},
   "outputs": [
    {
     "data": {
      "text/plain": [
       "'\\ufeff\\nThe Proj'"
      ]
     },
     "execution_count": 297,
     "metadata": {},
     "output_type": "execute_result"
    }
   ],
   "source": [
    "def clean_doc(doc):\n",
    "\t# replace '--' with a space ' '\n",
    "\tdoc = doc.replace('--', ' ')\n",
    "\t# split into tokens by white space\n",
    "\ttokens = doc.split()\n",
    "\t# remove punctuation from each token\n",
    "\ttable = str.maketrans('', '', string.punctuation)\n",
    "\ttokens = [w.translate(table) for w in tokens]\n",
    "\t# remove remaining tokens that are not alphabetic\n",
    "\ttokens = [word for word in tokens if word.isalpha()]\n",
    "    # make lower case\n",
    "    tokens = [word.lower() for word in tokens]\n",
    "    return tokens"
   ]
  },
  {
   "cell_type": "code",
   "execution_count": 301,
   "metadata": {},
   "outputs": [],
   "source": [
    "from nltk import word_tokenize\n",
    "\n",
    "words_cleaned = []\n",
    "\n",
    "letters_only = re.sub(\"[^a-zA-Z]\", \" \", f)\n",
    "\n",
    "words = word_tokenize(letters_only)  \n",
    "\n",
    "lower_words = [word.lower() for word in words]"
   ]
  },
  {
   "cell_type": "code",
   "execution_count": 305,
   "metadata": {},
   "outputs": [
    {
     "name": "stdout",
     "output_type": "stream",
     "text": [
      "17600\n"
     ]
    },
    {
     "data": {
      "text/plain": [
       "586615"
      ]
     },
     "execution_count": 305,
     "metadata": {},
     "output_type": "execute_result"
    }
   ],
   "source": [
    "print(len(set(lower_words)))\n",
    "len(lower_words)"
   ]
  },
  {
   "cell_type": "code",
   "execution_count": 306,
   "metadata": {},
   "outputs": [
    {
     "name": "stdout",
     "output_type": "stream",
     "text": [
      "Total Sequences: 586564\n"
     ]
    }
   ],
   "source": [
    "tokens = lower_words\n",
    "\n",
    "length = 50 + 1\n",
    "sequences = list()\n",
    "for i in range(length, len(tokens)):\n",
    "    # select sequence of tokens\n",
    "    seq = tokens[i-length:i]\n",
    "    # convert into a line\n",
    "    line = ' '.join(seq)\n",
    "    # store\n",
    "    sequences.append(line)\n",
    "print('Total Sequences: %d' % len(sequences))"
   ]
  },
  {
   "cell_type": "code",
   "execution_count": null,
   "metadata": {},
   "outputs": [],
   "source": []
  },
  {
   "cell_type": "markdown",
   "metadata": {},
   "source": [
    "### SPacy"
   ]
  },
  {
   "cell_type": "code",
   "execution_count": 296,
   "metadata": {},
   "outputs": [
    {
     "name": "stdout",
     "output_type": "stream",
     "text": [
      "use\n",
      "of\n",
      "anyone\n",
      "anywhere\n",
      "at\n"
     ]
    }
   ],
   "source": [
    "import spacy\n",
    "nlp = spacy.load('en')\n",
    "doc = nlp(f[:100000])\n",
    "\n",
    "for token in doc[20:25]:\n",
    "    print(token.text)"
   ]
  },
  {
   "cell_type": "code",
   "execution_count": null,
   "metadata": {},
   "outputs": [],
   "source": []
  }
 ],
 "metadata": {
  "kernelspec": {
   "display_name": "Python 3",
   "language": "python",
   "name": "python3"
  },
  "language_info": {
   "codemirror_mode": {
    "name": "ipython",
    "version": 3
   },
   "file_extension": ".py",
   "mimetype": "text/x-python",
   "name": "python",
   "nbconvert_exporter": "python",
   "pygments_lexer": "ipython3",
   "version": "3.6.5"
  }
 },
 "nbformat": 4,
 "nbformat_minor": 2
}
