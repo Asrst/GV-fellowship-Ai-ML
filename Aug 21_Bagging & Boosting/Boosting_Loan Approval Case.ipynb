{
 "cells": [
  {
   "cell_type": "code",
   "execution_count": 1,
   "metadata": {},
   "outputs": [],
   "source": [
    "#import libraries\n",
    "import os\n",
    "import pandas as pd\n",
    "import numpy as np\n",
    "import scipy as sp\n",
    "import seaborn as sns\n",
    "import math as m\n",
    "import xlrd\n",
    "from scipy import stats\n",
    "from sklearn import datasets\n",
    "import matplotlib.pyplot as plt"
   ]
  },
  {
   "cell_type": "code",
   "execution_count": 2,
   "metadata": {},
   "outputs": [],
   "source": [
    "# set work directory\n",
    "path = os.getcwd()"
   ]
  },
  {
   "cell_type": "code",
   "execution_count": 3,
   "metadata": {},
   "outputs": [],
   "source": [
    "# get the train data sets\n",
    "itrain  = pd.read_excel(str(path) + '/Decision trees_Customer_rating.xlsx')"
   ]
  },
  {
   "cell_type": "code",
   "execution_count": null,
   "metadata": {},
   "outputs": [],
   "source": [
    "# #function to split the train-split data\n",
    "# def SplitData(predictors,target):\n",
    "#     \"\"\"#FUNCTION for Train & Validation set\n",
    "#     \"\"\"\n",
    "#     from sklearn.model_selection import train_test_split\n",
    "#     X_train, X_valid, y_train, y_valid = train_test_split(predictors, target, test_size=0.3, \n",
    "#                                                     random_state = 25)"
   ]
  },
  {
   "cell_type": "code",
   "execution_count": 159,
   "metadata": {},
   "outputs": [],
   "source": [
    "### ------ Model Function -------------------\n",
    "###Don't forget to import Classifiers from Sklearn using :  from sklearn.tree/ensemble import DTC/RF/GBM\n",
    "\n",
    "def TrainModel(Classifier):\n",
    "\n",
    "    clf = Classifier.fit(X_train, y_train)\n",
    "    \n",
    "    #train-prediction\n",
    "    y_train_pred = Classifier.predict(X_train)\n",
    "    \n",
    "    #train score\n",
    "    from sklearn.metrics import classification_report\n",
    "    Clf_report_train = classification_report(y_train, y_train_pred)\n",
    "    print('\\n Clf Report on train: \\n\\n', Clf_report_train)\n",
    "    \n",
    "    #accuracy on train\n",
    "    accuracy = Classifier.score(X_train, y_train)\n",
    "    print('\\n Accuarcy on train %:  ', accuracy * 100)\n",
    "    \n",
    "    #Confusion matrix on train set\n",
    "    #trainCM = pd.crosstab(y_train, y_train_pred)\n",
    "    #print('\\n\\n CM on train:') \n",
    "    #display(trainCM)\n",
    "    \n",
    "    #return Clf_report_train, accuracy, trainCM\n",
    "    \n",
    "    \n",
    "#prediction on validation set\n",
    "\n",
    "def PredictModel(Classifier):\n",
    "    \n",
    "    y_valid_pred = Classifier.predict(X_valid)\n",
    "    \n",
    "    #metric report on validation set\n",
    "    from sklearn.metrics import classification_report\n",
    "    Clf_report_valid = classification_report(y_valid, y_valid_pred)\n",
    "    print('\\n report on validation data: \\n\\n', Clf_report_valid)\n",
    "    \n",
    "    # accuracy on validation set\n",
    "    accuracy = Classifier.score(X_valid, y_valid)\n",
    "    print('\\n accuracy on validation data in %:', accuracy * 100)\n",
    "    \n",
    "    # creating a confusion matrix on validation set\n",
    "    testCM = pd.crosstab(y_valid, y_valid_pred)\n",
    "    print('\\n\\n CM on validation %: ')\n",
    "    display(testCM)\n",
    "    \n",
    "    #return Clf_report_valid, accuracy, testCM\n",
    "    \n",
    "\n",
    "#function to get the feature importances\n",
    "\n",
    "def featureImp(Classifier):\n",
    "    features = X_train.columns\n",
    "    importances = Classifier.feature_importances_\n",
    "    indices = np.argsort(importances)\n",
    "    \n",
    "    fImp_Asc = []\n",
    "    \n",
    "    for i in indices:\n",
    "        n = features[i]\n",
    "        fImp_Asc.append(n)\n",
    "        \n",
    "    plt.figure(figsize=(5,5))\n",
    "    plt.barh(range(len(indices)), importances[indices], color='b', align='center')\n",
    "    plt.yticks(range(len(indices)), [features[i] for i in indices])\n",
    "    plt.xlabel('Relative Importance')\n",
    "    plt.title('Feature Importances')\n",
    "    plt.show()\n",
    "        \n",
    "    return fImp_Asc\n",
    "\n",
    "\n",
    "\n",
    "### Function to get the ROC Curve\n",
    "def getROC(Classifier):\n",
    "    from sklearn.metrics import roc_auc_score\n",
    "    from sklearn.metrics import roc_curve\n",
    "    nb_roc_auc = roc_auc_score(y_valid, Classifier.predict(X_valid))\n",
    "    fpr, tpr, thresholds = roc_curve(y_valid, Classifier.predict_proba(X_valid)[:,1])\n",
    "    plt.figure(figsize = (4,4))\n",
    "    plt.plot(fpr, tpr, label='(area = %0.2f)' % nb_roc_auc)\n",
    "    plt.plot([0, 1], [0, 1],'r--')\n",
    "    plt.xlim([0.0, 1.0])\n",
    "    plt.ylim([0.0, 1.05])\n",
    "    plt.xlabel('False Positive Rate')\n",
    "    plt.ylabel('True Positive Rate')\n",
    "    plt.title('Receiver operating characteristic')\n",
    "    plt.legend(loc=\"lower right\")\n",
    "    plt.show()"
   ]
  },
  {
   "cell_type": "code",
   "execution_count": 25,
   "metadata": {},
   "outputs": [],
   "source": [
    "dump = ['CURRENT.STAGE','APPLICATION.ID','APPROVED.AMOUNT','APPLICATION.STATUS', 'PRIMARY.ASSET.MODELNO']\n",
    "\n",
    "predictors = itrain.drop(dump, axis = 1)\n",
    "target = itrain['APPLICATION.STATUS'].replace({'Approved' : 1, 'Declined' : 0})\n",
    "\n",
    "\n",
    "labcol = ['QUEUE.ID', 'MARITAL.STATUS', 'GENDER', 'EDUCATION','RESIDENCE.TYPE','EMPLOY.CONSTITUTION', 'PAN.STATUS','STATE',\n",
    "       'OWN.HOUSE.TYPE', 'PRIMARY.ASSET.CTG','PRIMARY.ASSET.MAKE', 'DSA.ID', 'DEALER.ID','CITY','ZIP.CODE']\n",
    "\n",
    "from sklearn.preprocessing import LabelEncoder\n",
    "le = LabelEncoder()\n",
    "for i in labcol:\n",
    "    predictors[i] = le.fit_transform(predictors[i])\n",
    "\n",
    "Ids = ['VOTER_ID', 'DRIVING_LICENSE', 'AADHAAR', 'PAN', 'BANK_PASSBOOK']\n",
    "for i in Ids:\n",
    "    predictors[i] = predictors[i].replace({'T' : 1, 'F' : 0})"
   ]
  },
  {
   "cell_type": "code",
   "execution_count": 26,
   "metadata": {},
   "outputs": [],
   "source": [
    "from sklearn.model_selection import train_test_split\n",
    "X_train, X_valid, y_train, y_valid = train_test_split(predictors, target, test_size=0.3, \n",
    "                                                    random_state = 25)"
   ]
  },
  {
   "cell_type": "markdown",
   "metadata": {},
   "source": [
    "### AdaBoost Algorithm"
   ]
  },
  {
   "cell_type": "code",
   "execution_count": 160,
   "metadata": {},
   "outputs": [
    {
     "name": "stdout",
     "output_type": "stream",
     "text": [
      "\n",
      " Clf Report on train: \n",
      "\n",
      "              precision    recall  f1-score   support\n",
      "\n",
      "          0       0.66      0.53      0.59      2331\n",
      "          1       0.69      0.79      0.74      3100\n",
      "\n",
      "avg / total       0.68      0.68      0.67      5431\n",
      "\n",
      "\n",
      " Accuarcy on train %:   67.9432885288\n",
      "\n",
      " report on validation data: \n",
      "\n",
      "              precision    recall  f1-score   support\n",
      "\n",
      "          0       0.65      0.52      0.58       991\n",
      "          1       0.69      0.79      0.74      1337\n",
      "\n",
      "avg / total       0.67      0.68      0.67      2328\n",
      "\n",
      "\n",
      " accuracy on validation data in %: 67.6546391753\n",
      "\n",
      "\n",
      " CM on validation %: \n"
     ]
    },
    {
     "data": {
      "text/html": [
       "<div>\n",
       "<style scoped>\n",
       "    .dataframe tbody tr th:only-of-type {\n",
       "        vertical-align: middle;\n",
       "    }\n",
       "\n",
       "    .dataframe tbody tr th {\n",
       "        vertical-align: top;\n",
       "    }\n",
       "\n",
       "    .dataframe thead th {\n",
       "        text-align: right;\n",
       "    }\n",
       "</style>\n",
       "<table border=\"1\" class=\"dataframe\">\n",
       "  <thead>\n",
       "    <tr style=\"text-align: right;\">\n",
       "      <th>col_0</th>\n",
       "      <th>0</th>\n",
       "      <th>1</th>\n",
       "    </tr>\n",
       "    <tr>\n",
       "      <th>APPLICATION.STATUS</th>\n",
       "      <th></th>\n",
       "      <th></th>\n",
       "    </tr>\n",
       "  </thead>\n",
       "  <tbody>\n",
       "    <tr>\n",
       "      <th>0</th>\n",
       "      <td>520</td>\n",
       "      <td>471</td>\n",
       "    </tr>\n",
       "    <tr>\n",
       "      <th>1</th>\n",
       "      <td>282</td>\n",
       "      <td>1055</td>\n",
       "    </tr>\n",
       "  </tbody>\n",
       "</table>\n",
       "</div>"
      ],
      "text/plain": [
       "col_0                 0     1\n",
       "APPLICATION.STATUS           \n",
       "0                   520   471\n",
       "1                   282  1055"
      ]
     },
     "metadata": {},
     "output_type": "display_data"
    },
    {
     "data": {
      "image/png": "[encoded data removed]",
      "text/plain": [
       "<matplotlib.figure.Figure at 0x7f2bf15622b0>"
      ]
     },
     "metadata": {},
     "output_type": "display_data"
    },
    {
     "data": {
      "text/plain": [
       "['EMPLOY.CONSTITUTION',\n",
       " 'AADHAAR',\n",
       " 'DRIVING_LICENSE',\n",
       " 'VOTER_ID',\n",
       " 'PAN.STATUS',\n",
       " 'PAN',\n",
       " 'STATE',\n",
       " 'BANK_PASSBOOK',\n",
       " 'EDUCATION',\n",
       " 'GENDER',\n",
       " 'CITY',\n",
       " 'OWN.HOUSE.TYPE',\n",
       " 'PRIMARY.ASSET.CTG',\n",
       " 'MARITAL.STATUS',\n",
       " 'RESIDENCE.TYPE',\n",
       " 'APPLIED.AMOUNT',\n",
       " 'QUEUE.ID',\n",
       " 'DEALER.ID',\n",
       " 'ZIP.CODE',\n",
       " 'LOAN.TENOR',\n",
       " 'PRIMARY.ASSET.MAKE',\n",
       " 'DSA.ID',\n",
       " 'AGE',\n",
       " 'APPLICATION.SCORE']"
      ]
     },
     "execution_count": 160,
     "metadata": {},
     "output_type": "execute_result"
    }
   ],
   "source": [
    "# AdaBoost Algorithm\n",
    "from sklearn.ensemble import AdaBoostClassifier\n",
    "clf1 = AdaBoostClassifier() # n_estimators = 50 (default) # base_estimator = DecisionTreeClassifier(default)\n",
    "TrainModel(clf1)\n",
    "PredictModel(clf1)\n",
    "featureImp(clf1)"
   ]
  },
  {
   "cell_type": "code",
   "execution_count": 98,
   "metadata": {},
   "outputs": [
    {
     "data": {
      "text/plain": [
       "'digraph Tree {\\nnode [shape=box] ;\\n0 [label=\"X[2] <= 0.5\\\\ngini = 0.49\\\\nsamples = 5431\\\\nvalue = [0.429, 0.571]\"] ;\\n1 [label=\"gini = 0.462\\\\nsamples = 3798\\\\nvalue = [0.253, 0.446]\"] ;\\n0 -> 1 [labeldistance=2.5, labelangle=45, headlabel=\"True\"] ;\\n2 [label=\"gini = 0.485\\\\nsamples = 1633\\\\nvalue = [0.176, 0.125]\"] ;\\n0 -> 2 [labeldistance=2.5, labelangle=-45, headlabel=\"False\"] ;\\n}'"
      ]
     },
     "execution_count": 98,
     "metadata": {},
     "output_type": "execute_result"
    }
   ],
   "source": [
    "# from sklearn import tree\n",
    "# tree.export_graphviz(clf1.estimators_[0], out_file= None)\n",
    "# #(graph,) = pydot.graph_from_dot_file('tree_from_forest.dot')\n",
    "# #graph.write_png('tree_from_forest.png')"
   ]
  },
  {
   "cell_type": "markdown",
   "metadata": {},
   "source": [
    "### GBM"
   ]
  },
  {
   "cell_type": "code",
   "execution_count": 161,
   "metadata": {},
   "outputs": [
    {
     "name": "stdout",
     "output_type": "stream",
     "text": [
      "\n",
      " Clf Report on train: \n",
      "\n",
      "              precision    recall  f1-score   support\n",
      "\n",
      "          0       0.71      0.69      0.70      2331\n",
      "          1       0.77      0.79      0.78      3100\n",
      "\n",
      "avg / total       0.74      0.75      0.74      5431\n",
      "\n",
      "\n",
      " Accuarcy on train %:   74.5166635979\n",
      "\n",
      " report on validation data: \n",
      "\n",
      "              precision    recall  f1-score   support\n",
      "\n",
      "          0       0.67      0.65      0.66       991\n",
      "          1       0.75      0.76      0.76      1337\n",
      "\n",
      "avg / total       0.72      0.72      0.72      2328\n",
      "\n",
      "\n",
      " accuracy on validation data in %: 71.735395189\n",
      "\n",
      "\n",
      " CM on validation %: \n"
     ]
    },
    {
     "data": {
      "text/html": [
       "<div>\n",
       "<style scoped>\n",
       "    .dataframe tbody tr th:only-of-type {\n",
       "        vertical-align: middle;\n",
       "    }\n",
       "\n",
       "    .dataframe tbody tr th {\n",
       "        vertical-align: top;\n",
       "    }\n",
       "\n",
       "    .dataframe thead th {\n",
       "        text-align: right;\n",
       "    }\n",
       "</style>\n",
       "<table border=\"1\" class=\"dataframe\">\n",
       "  <thead>\n",
       "    <tr style=\"text-align: right;\">\n",
       "      <th>col_0</th>\n",
       "      <th>0</th>\n",
       "      <th>1</th>\n",
       "    </tr>\n",
       "    <tr>\n",
       "      <th>APPLICATION.STATUS</th>\n",
       "      <th></th>\n",
       "      <th></th>\n",
       "    </tr>\n",
       "  </thead>\n",
       "  <tbody>\n",
       "    <tr>\n",
       "      <th>0</th>\n",
       "      <td>649</td>\n",
       "      <td>342</td>\n",
       "    </tr>\n",
       "    <tr>\n",
       "      <th>1</th>\n",
       "      <td>316</td>\n",
       "      <td>1021</td>\n",
       "    </tr>\n",
       "  </tbody>\n",
       "</table>\n",
       "</div>"
      ],
      "text/plain": [
       "col_0                 0     1\n",
       "APPLICATION.STATUS           \n",
       "0                   649   342\n",
       "1                   316  1021"
      ]
     },
     "metadata": {},
     "output_type": "display_data"
    },
    {
     "data": {
      "image/png": "[encoded data removed]",
      "text/plain": [
       "<matplotlib.figure.Figure at 0x7f2bf1715940>"
      ]
     },
     "metadata": {},
     "output_type": "display_data"
    },
    {
     "data": {
      "text/plain": [
       "['BANK_PASSBOOK',\n",
       " 'PAN',\n",
       " 'AADHAAR',\n",
       " 'GENDER',\n",
       " 'DRIVING_LICENSE',\n",
       " 'OWN.HOUSE.TYPE',\n",
       " 'PAN.STATUS',\n",
       " 'VOTER_ID',\n",
       " 'EDUCATION',\n",
       " 'MARITAL.STATUS',\n",
       " 'PRIMARY.ASSET.CTG',\n",
       " 'STATE',\n",
       " 'LOAN.TENOR',\n",
       " 'EMPLOY.CONSTITUTION',\n",
       " 'CITY',\n",
       " 'PRIMARY.ASSET.MAKE',\n",
       " 'RESIDENCE.TYPE',\n",
       " 'DEALER.ID',\n",
       " 'ZIP.CODE',\n",
       " 'APPLIED.AMOUNT',\n",
       " 'DSA.ID',\n",
       " 'QUEUE.ID',\n",
       " 'AGE',\n",
       " 'APPLICATION.SCORE']"
      ]
     },
     "execution_count": 161,
     "metadata": {},
     "output_type": "execute_result"
    }
   ],
   "source": [
    "#Gradient Boosting Machines\n",
    "from sklearn.ensemble import GradientBoostingClassifier\n",
    "clf2 = GradientBoostingClassifier() # n_estimators = 50 (default) # base_estimator = DecisionTreeClassifier(default)\n",
    "\n",
    "TrainModel(clf2)\n",
    "PredictModel(clf2)\n",
    "featureImp(clf2)"
   ]
  },
  {
   "cell_type": "markdown",
   "metadata": {},
   "source": [
    "### XG Boost"
   ]
  },
  {
   "cell_type": "code",
   "execution_count": 162,
   "metadata": {},
   "outputs": [
    {
     "name": "stdout",
     "output_type": "stream",
     "text": [
      "\n",
      " Clf Report on train: \n",
      "\n",
      "              precision    recall  f1-score   support\n",
      "\n",
      "          0       0.70      0.68      0.69      2331\n",
      "          1       0.77      0.78      0.77      3100\n",
      "\n",
      "avg / total       0.74      0.74      0.74      5431\n",
      "\n",
      "\n",
      " Accuarcy on train %:   73.8722150617\n",
      "\n",
      " report on validation data: \n",
      "\n",
      "              precision    recall  f1-score   support\n",
      "\n",
      "          0       0.67      0.66      0.66       991\n",
      "          1       0.75      0.76      0.75      1337\n",
      "\n",
      "avg / total       0.72      0.72      0.72      2328\n",
      "\n",
      "\n",
      " accuracy on validation data in %: 71.5635738832\n",
      "\n",
      "\n",
      " CM on validation %: \n"
     ]
    },
    {
     "data": {
      "text/html": [
       "<div>\n",
       "<style scoped>\n",
       "    .dataframe tbody tr th:only-of-type {\n",
       "        vertical-align: middle;\n",
       "    }\n",
       "\n",
       "    .dataframe tbody tr th {\n",
       "        vertical-align: top;\n",
       "    }\n",
       "\n",
       "    .dataframe thead th {\n",
       "        text-align: right;\n",
       "    }\n",
       "</style>\n",
       "<table border=\"1\" class=\"dataframe\">\n",
       "  <thead>\n",
       "    <tr style=\"text-align: right;\">\n",
       "      <th>col_0</th>\n",
       "      <th>0</th>\n",
       "      <th>1</th>\n",
       "    </tr>\n",
       "    <tr>\n",
       "      <th>APPLICATION.STATUS</th>\n",
       "      <th></th>\n",
       "      <th></th>\n",
       "    </tr>\n",
       "  </thead>\n",
       "  <tbody>\n",
       "    <tr>\n",
       "      <th>0</th>\n",
       "      <td>655</td>\n",
       "      <td>336</td>\n",
       "    </tr>\n",
       "    <tr>\n",
       "      <th>1</th>\n",
       "      <td>326</td>\n",
       "      <td>1011</td>\n",
       "    </tr>\n",
       "  </tbody>\n",
       "</table>\n",
       "</div>"
      ],
      "text/plain": [
       "col_0                 0     1\n",
       "APPLICATION.STATUS           \n",
       "0                   655   336\n",
       "1                   326  1011"
      ]
     },
     "metadata": {},
     "output_type": "display_data"
    },
    {
     "data": {
      "image/png": "[encoded data removed]",
      "text/plain": [
       "<matplotlib.figure.Figure at 0x7f2bf169d908>"
      ]
     },
     "metadata": {},
     "output_type": "display_data"
    },
    {
     "data": {
      "text/plain": [
       "['BANK_PASSBOOK',\n",
       " 'DRIVING_LICENSE',\n",
       " 'GENDER',\n",
       " 'PAN',\n",
       " 'EDUCATION',\n",
       " 'MARITAL.STATUS',\n",
       " 'VOTER_ID',\n",
       " 'OWN.HOUSE.TYPE',\n",
       " 'PAN.STATUS',\n",
       " 'AADHAAR',\n",
       " 'PRIMARY.ASSET.CTG',\n",
       " 'LOAN.TENOR',\n",
       " 'EMPLOY.CONSTITUTION',\n",
       " 'STATE',\n",
       " 'CITY',\n",
       " 'APPLIED.AMOUNT',\n",
       " 'RESIDENCE.TYPE',\n",
       " 'ZIP.CODE',\n",
       " 'DEALER.ID',\n",
       " 'PRIMARY.ASSET.MAKE',\n",
       " 'DSA.ID',\n",
       " 'QUEUE.ID',\n",
       " 'AGE',\n",
       " 'APPLICATION.SCORE']"
      ]
     },
     "execution_count": 162,
     "metadata": {},
     "output_type": "execute_result"
    }
   ],
   "source": [
    "#XG Boost\n",
    "### For early stop: clf3.fit(X_train, y_train, early_stopping_rounds=10, eval_metric=\"auc\",eval_set=[(X_test, y_test)])\n",
    "import xgboost as xgb\n",
    "clf3 = xgb.XGBClassifier()    \n",
    "TrainModel(clf3)\n",
    "PredictModel(clf3)\n",
    "featureImp(clf3)"
   ]
  },
  {
   "cell_type": "code",
   "execution_count": 65,
   "metadata": {},
   "outputs": [],
   "source": [
    "# from xgboost import plot_tree\n",
    "# import graphviz\n",
    "# xgb.plot_tree((clf3._Booster))"
   ]
  },
  {
   "cell_type": "code",
   "execution_count": 151,
   "metadata": {},
   "outputs": [
    {
     "data": {
      "image/png": "[encoded data removed]",
      "text/plain": [
       "<matplotlib.figure.Figure at 0x7f2be8076198>"
      ]
     },
     "metadata": {},
     "output_type": "display_data"
    },
    {
     "data": {
      "text/plain": [
       "XGBClassifier(base_score=0.5, booster='gbtree', colsample_bylevel=1,\n",
       "       colsample_bytree=1, gamma=0, learning_rate=0.1, max_delta_step=0,\n",
       "       max_depth=3, min_child_weight=1, missing=None, n_estimators=200,\n",
       "       n_jobs=1, nthread=None, objective='binary:logistic', random_state=0,\n",
       "       reg_alpha=0, reg_lambda=1, scale_pos_weight=1, seed=None,\n",
       "       silent=True, subsample=1)"
      ]
     },
     "execution_count": 151,
     "metadata": {},
     "output_type": "execute_result"
    }
   ],
   "source": [
    "clf4 = xgb.XGBClassifier(n_estimators = 200) # n_estimators = 50 (default) \n",
    "# base_estimator = DecisionTreeClassifier(default)\n",
    "\n",
    "eval_set = [(X_train, y_train), (X_valid, y_valid)]\n",
    "clf4.fit(X_train, y_train, eval_metric=\"error\", eval_set=eval_set, verbose=False)\n",
    "\n",
    "# retrieve performance metrics\n",
    "results = clf4.evals_result()\n",
    "epochs = len(results['validation_0']['error'])\n",
    "x_axis = range(0, epochs)\n",
    "\n",
    "# plot classification error\n",
    "fig, ax = plt.subplots()\n",
    "ax.plot(x_axis, results['validation_0']['error'], label='Train')\n",
    "ax.plot(x_axis, results['validation_1']['error'], label='Test')\n",
    "ax.legend()\n",
    "plt.ylabel('Classification Error')\n",
    "plt.title('XGBoost Classification Error')\n",
    "plt.show()\n",
    "\n",
    "clf4.fit(X_train, y_train, early_stopping_rounds= 25, eval_metric=\"error\", eval_set=eval_set, verbose = False)"
   ]
  },
  {
   "cell_type": "markdown",
   "metadata": {},
   "source": [
    "### Random Forest"
   ]
  },
  {
   "cell_type": "code",
   "execution_count": 149,
   "metadata": {},
   "outputs": [
    {
     "name": "stdout",
     "output_type": "stream",
     "text": [
      "\n",
      " Clf Report on train: \n",
      "\n",
      "              precision    recall  f1-score   support\n",
      "\n",
      "          0       0.98      0.99      0.99      2331\n",
      "          1       0.99      0.99      0.99      3100\n",
      "\n",
      "avg / total       0.99      0.99      0.99      5431\n",
      "\n",
      "\n",
      " Accuarcy on train %:   98.8031670042\n",
      "\n",
      "\n",
      " CM on train:\n"
     ]
    },
    {
     "data": {
      "text/html": [
       "<div>\n",
       "<style scoped>\n",
       "    .dataframe tbody tr th:only-of-type {\n",
       "        vertical-align: middle;\n",
       "    }\n",
       "\n",
       "    .dataframe tbody tr th {\n",
       "        vertical-align: top;\n",
       "    }\n",
       "\n",
       "    .dataframe thead th {\n",
       "        text-align: right;\n",
       "    }\n",
       "</style>\n",
       "<table border=\"1\" class=\"dataframe\">\n",
       "  <thead>\n",
       "    <tr style=\"text-align: right;\">\n",
       "      <th>col_0</th>\n",
       "      <th>0</th>\n",
       "      <th>1</th>\n",
       "    </tr>\n",
       "    <tr>\n",
       "      <th>APPLICATION.STATUS</th>\n",
       "      <th></th>\n",
       "      <th></th>\n",
       "    </tr>\n",
       "  </thead>\n",
       "  <tbody>\n",
       "    <tr>\n",
       "      <th>0</th>\n",
       "      <td>2307</td>\n",
       "      <td>24</td>\n",
       "    </tr>\n",
       "    <tr>\n",
       "      <th>1</th>\n",
       "      <td>41</td>\n",
       "      <td>3059</td>\n",
       "    </tr>\n",
       "  </tbody>\n",
       "</table>\n",
       "</div>"
      ],
      "text/plain": [
       "col_0                  0     1\n",
       "APPLICATION.STATUS            \n",
       "0                   2307    24\n",
       "1                     41  3059"
      ]
     },
     "metadata": {},
     "output_type": "display_data"
    },
    {
     "name": "stdout",
     "output_type": "stream",
     "text": [
      "\n",
      " report on validation data: \n",
      "\n",
      "              precision    recall  f1-score   support\n",
      "\n",
      "          0       0.58      0.60      0.59       991\n",
      "          1       0.70      0.67      0.68      1337\n",
      "\n",
      "avg / total       0.64      0.64      0.64      2328\n",
      "\n",
      "\n",
      " accuracy on validation data in %: 64.2611683849\n",
      "\n",
      "\n",
      " CM on validation %: \n"
     ]
    },
    {
     "data": {
      "text/html": [
       "<div>\n",
       "<style scoped>\n",
       "    .dataframe tbody tr th:only-of-type {\n",
       "        vertical-align: middle;\n",
       "    }\n",
       "\n",
       "    .dataframe tbody tr th {\n",
       "        vertical-align: top;\n",
       "    }\n",
       "\n",
       "    .dataframe thead th {\n",
       "        text-align: right;\n",
       "    }\n",
       "</style>\n",
       "<table border=\"1\" class=\"dataframe\">\n",
       "  <thead>\n",
       "    <tr style=\"text-align: right;\">\n",
       "      <th>col_0</th>\n",
       "      <th>0</th>\n",
       "      <th>1</th>\n",
       "    </tr>\n",
       "    <tr>\n",
       "      <th>APPLICATION.STATUS</th>\n",
       "      <th></th>\n",
       "      <th></th>\n",
       "    </tr>\n",
       "  </thead>\n",
       "  <tbody>\n",
       "    <tr>\n",
       "      <th>0</th>\n",
       "      <td>597</td>\n",
       "      <td>394</td>\n",
       "    </tr>\n",
       "    <tr>\n",
       "      <th>1</th>\n",
       "      <td>438</td>\n",
       "      <td>899</td>\n",
       "    </tr>\n",
       "  </tbody>\n",
       "</table>\n",
       "</div>"
      ],
      "text/plain": [
       "col_0                 0    1\n",
       "APPLICATION.STATUS          \n",
       "0                   597  394\n",
       "1                   438  899"
      ]
     },
     "metadata": {},
     "output_type": "display_data"
    },
    {
     "data": {
      "image/png": "[encoded data removed]",
      "text/plain": [
       "<matplotlib.figure.Figure at 0x7f2bf1780550>"
      ]
     },
     "metadata": {},
     "output_type": "display_data"
    },
    {
     "data": {
      "text/plain": [
       "['BANK_PASSBOOK',\n",
       " 'DRIVING_LICENSE',\n",
       " 'GENDER',\n",
       " 'VOTER_ID',\n",
       " 'MARITAL.STATUS',\n",
       " 'PAN',\n",
       " 'OWN.HOUSE.TYPE',\n",
       " 'AADHAAR',\n",
       " 'EMPLOY.CONSTITUTION',\n",
       " 'PAN.STATUS',\n",
       " 'EDUCATION',\n",
       " 'STATE',\n",
       " 'LOAN.TENOR',\n",
       " 'QUEUE.ID',\n",
       " 'PRIMARY.ASSET.CTG',\n",
       " 'PRIMARY.ASSET.MAKE',\n",
       " 'CITY',\n",
       " 'RESIDENCE.TYPE',\n",
       " 'APPLIED.AMOUNT',\n",
       " 'DEALER.ID',\n",
       " 'DSA.ID',\n",
       " 'AGE',\n",
       " 'ZIP.CODE',\n",
       " 'APPLICATION.SCORE']"
      ]
     },
     "execution_count": 149,
     "metadata": {},
     "output_type": "execute_result"
    }
   ],
   "source": [
    "from sklearn.ensemble import RandomForestClassifier\n",
    "rF = RandomForestClassifier()\n",
    "TrainModel(rF)\n",
    "PredictModel(rF)\n",
    "featureImp(rF)"
   ]
  },
  {
   "cell_type": "markdown",
   "metadata": {},
   "source": [
    "### Decision Tree"
   ]
  },
  {
   "cell_type": "code",
   "execution_count": 153,
   "metadata": {},
   "outputs": [
    {
     "name": "stdout",
     "output_type": "stream",
     "text": [
      "\n",
      " Clf Report on train: \n",
      "\n",
      "              precision    recall  f1-score   support\n",
      "\n",
      "          0       0.99      1.00      1.00      2331\n",
      "          1       1.00      0.99      1.00      3100\n",
      "\n",
      "avg / total       1.00      1.00      1.00      5431\n",
      "\n",
      "\n",
      " Accuarcy on train %:   99.6317436936\n",
      "\n",
      "\n",
      " CM on train:\n"
     ]
    },
    {
     "data": {
      "text/html": [
       "<div>\n",
       "<style scoped>\n",
       "    .dataframe tbody tr th:only-of-type {\n",
       "        vertical-align: middle;\n",
       "    }\n",
       "\n",
       "    .dataframe tbody tr th {\n",
       "        vertical-align: top;\n",
       "    }\n",
       "\n",
       "    .dataframe thead th {\n",
       "        text-align: right;\n",
       "    }\n",
       "</style>\n",
       "<table border=\"1\" class=\"dataframe\">\n",
       "  <thead>\n",
       "    <tr style=\"text-align: right;\">\n",
       "      <th>col_0</th>\n",
       "      <th>0</th>\n",
       "      <th>1</th>\n",
       "    </tr>\n",
       "    <tr>\n",
       "      <th>APPLICATION.STATUS</th>\n",
       "      <th></th>\n",
       "      <th></th>\n",
       "    </tr>\n",
       "  </thead>\n",
       "  <tbody>\n",
       "    <tr>\n",
       "      <th>0</th>\n",
       "      <td>2331</td>\n",
       "      <td>0</td>\n",
       "    </tr>\n",
       "    <tr>\n",
       "      <th>1</th>\n",
       "      <td>20</td>\n",
       "      <td>3080</td>\n",
       "    </tr>\n",
       "  </tbody>\n",
       "</table>\n",
       "</div>"
      ],
      "text/plain": [
       "col_0                  0     1\n",
       "APPLICATION.STATUS            \n",
       "0                   2331     0\n",
       "1                     20  3080"
      ]
     },
     "metadata": {},
     "output_type": "display_data"
    },
    {
     "name": "stdout",
     "output_type": "stream",
     "text": [
      "\n",
      " report on validation data: \n",
      "\n",
      "              precision    recall  f1-score   support\n",
      "\n",
      "          0       0.58      0.56      0.57       991\n",
      "          1       0.68      0.70      0.69      1337\n",
      "\n",
      "avg / total       0.64      0.64      0.64      2328\n",
      "\n",
      "\n",
      " accuracy on validation data in %: 64.2611683849\n",
      "\n",
      "\n",
      " CM on validation %: \n"
     ]
    },
    {
     "data": {
      "text/html": [
       "<div>\n",
       "<style scoped>\n",
       "    .dataframe tbody tr th:only-of-type {\n",
       "        vertical-align: middle;\n",
       "    }\n",
       "\n",
       "    .dataframe tbody tr th {\n",
       "        vertical-align: top;\n",
       "    }\n",
       "\n",
       "    .dataframe thead th {\n",
       "        text-align: right;\n",
       "    }\n",
       "</style>\n",
       "<table border=\"1\" class=\"dataframe\">\n",
       "  <thead>\n",
       "    <tr style=\"text-align: right;\">\n",
       "      <th>col_0</th>\n",
       "      <th>0</th>\n",
       "      <th>1</th>\n",
       "    </tr>\n",
       "    <tr>\n",
       "      <th>APPLICATION.STATUS</th>\n",
       "      <th></th>\n",
       "      <th></th>\n",
       "    </tr>\n",
       "  </thead>\n",
       "  <tbody>\n",
       "    <tr>\n",
       "      <th>0</th>\n",
       "      <td>559</td>\n",
       "      <td>432</td>\n",
       "    </tr>\n",
       "    <tr>\n",
       "      <th>1</th>\n",
       "      <td>400</td>\n",
       "      <td>937</td>\n",
       "    </tr>\n",
       "  </tbody>\n",
       "</table>\n",
       "</div>"
      ],
      "text/plain": [
       "col_0                 0    1\n",
       "APPLICATION.STATUS          \n",
       "0                   559  432\n",
       "1                   400  937"
      ]
     },
     "metadata": {},
     "output_type": "display_data"
    },
    {
     "data": {
      "image/png": "[encoded data removed]",
      "text/plain": [
       "<matplotlib.figure.Figure at 0x7f2bf14d2e80>"
      ]
     },
     "metadata": {},
     "output_type": "display_data"
    },
    {
     "data": {
      "text/plain": [
       "['BANK_PASSBOOK',\n",
       " 'PAN',\n",
       " 'AADHAAR',\n",
       " 'MARITAL.STATUS',\n",
       " 'VOTER_ID',\n",
       " 'DRIVING_LICENSE',\n",
       " 'GENDER',\n",
       " 'OWN.HOUSE.TYPE',\n",
       " 'EDUCATION',\n",
       " 'STATE',\n",
       " 'EMPLOY.CONSTITUTION',\n",
       " 'LOAN.TENOR',\n",
       " 'PAN.STATUS',\n",
       " 'RESIDENCE.TYPE',\n",
       " 'QUEUE.ID',\n",
       " 'CITY',\n",
       " 'PRIMARY.ASSET.CTG',\n",
       " 'PRIMARY.ASSET.MAKE',\n",
       " 'DSA.ID',\n",
       " 'APPLIED.AMOUNT',\n",
       " 'ZIP.CODE',\n",
       " 'DEALER.ID',\n",
       " 'AGE',\n",
       " 'APPLICATION.SCORE']"
      ]
     },
     "execution_count": 153,
     "metadata": {},
     "output_type": "execute_result"
    }
   ],
   "source": [
    "from sklearn.tree import DecisionTreeClassifier\n",
    "dT = DecisionTreeClassifier()\n",
    "TrainModel(dT)\n",
    "PredictModel(dT)\n",
    "featureImp(dT)"
   ]
  },
  {
   "cell_type": "markdown",
   "metadata": {},
   "source": [
    "### ROC - Comparsion b/w different models"
   ]
  },
  {
   "cell_type": "code",
   "execution_count": 156,
   "metadata": {},
   "outputs": [
    {
     "data": {
      "image/png": "[encoded data removed]",
      "text/plain": [
       "<matplotlib.figure.Figure at 0x7f2ae1a484e0>"
      ]
     },
     "metadata": {},
     "output_type": "display_data"
    }
   ],
   "source": [
    "### Function to get the ROC Curve\n",
    "def getROC(C1,C2,C3,C4,C5):\n",
    "    from sklearn.metrics import roc_auc_score\n",
    "    from sklearn.metrics import roc_curve\n",
    "    \n",
    "    #roc1 = roc_auc_score(y_valid, C1.predict(X_valid))\n",
    "    fpr1, tpr1, thresholds1 = roc_curve(y_valid, C1.predict_proba(X_valid)[:,1])\n",
    "    \n",
    "    #roc2 = roc_auc_score(y_valid, C2.predict(X_valid))\n",
    "    fpr2, tpr2, thresholds2 = roc_curve(y_valid, C2.predict_proba(X_valid)[:,1])\n",
    "    \n",
    "    #roc3 = roc_auc_score(y_valid, C3.predict(X_valid))\n",
    "    fpr3, tpr3, thresholds3 = roc_curve(y_valid, C3.predict_proba(X_valid)[:,1])\n",
    "    \n",
    "    fpr4, tpr4, thresholds4 = roc_curve(y_valid, C4.predict_proba(X_valid)[:,1])\n",
    "    \n",
    "    fpr5, tpr5, thresholds5 = roc_curve(y_valid, C5.predict_proba(X_valid)[:,1])\n",
    "    \n",
    "    plt.figure(figsize = (8,6))\n",
    "    plt.plot([0, 1], [0, 1],'r--')\n",
    "    plt.plot(fpr5, tpr5, label='DT' )\n",
    "    plt.plot(fpr4, tpr4, label='RF' )\n",
    "    plt.plot(fpr1, tpr1, label='ADB')\n",
    "    plt.plot(fpr2, tpr2, label='GBM')\n",
    "    plt.plot(fpr3, tpr3, label='XGB' )\n",
    "   \n",
    "    plt.xlim([0.0, 1.0])\n",
    "    plt.ylim([0.0, 1.05])\n",
    "    plt.xlabel('False Positive Rate')\n",
    "    plt.ylabel('True Positive Rate')\n",
    "    plt.title('Receiver operating characteristic')\n",
    "    plt.legend(loc=\"lower right\")\n",
    "    plt.show()\n",
    "\n",
    "getROC(clf1, clf2, clf3, rF, dT)"
   ]
  }
 ],
 "metadata": {
  "kernelspec": {
   "display_name": "Python 3",
   "language": "python",
   "name": "python3"
  },
  "language_info": {
   "codemirror_mode": {
    "name": "ipython",
    "version": 3
   },
   "file_extension": ".py",
   "mimetype": "text/x-python",
   "name": "python",
   "nbconvert_exporter": "python",
   "pygments_lexer": "ipython3",
   "version": "3.6.5"
  }
 },
 "nbformat": 4,
 "nbformat_minor": 2
}
