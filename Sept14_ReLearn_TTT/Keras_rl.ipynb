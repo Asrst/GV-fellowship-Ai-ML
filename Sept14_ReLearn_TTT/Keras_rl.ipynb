{
 "cells": [
  {
   "cell_type": "code",
   "execution_count": 1,
   "metadata": {},
   "outputs": [
    {
     "name": "stdout",
     "output_type": "stream",
     "text": [
      "Cloning into 'tictactoe_keras_rl'...\n",
      "remote: Enumerating objects: 13, done.\u001b[K\n",
      "remote: Total 13 (delta 0), reused 0 (delta 0), pack-reused 13\u001b[K\n",
      "Unpacking objects: 100% (13/13), done.\n"
     ]
    }
   ],
   "source": [
    "!git clone https://github.com/Alder85/tictactoe_keras_rl.git"
   ]
  },
  {
   "cell_type": "code",
   "execution_count": 2,
   "metadata": {},
   "outputs": [
    {
     "name": "stdout",
     "output_type": "stream",
     "text": [
      "\u001b[0m\u001b[01;34malpha-zero-general\u001b[0m/  simple_tic-tac-toe_from scratch.ipynb  \u001b[01;34mtictactoe_keras_rl\u001b[0m/\r\n",
      "open ai gym.ipynb    \u001b[01;34mtensorflow_logs\u001b[0m/                       Untitled.ipynb\r\n"
     ]
    }
   ],
   "source": [
    "ls"
   ]
  },
  {
   "cell_type": "code",
   "execution_count": 5,
   "metadata": {},
   "outputs": [
    {
     "name": "stdout",
     "output_type": "stream",
     "text": [
      "alpha-zero-general  simple_tic-tac-toe_from scratch.ipynb  tictactoe_keras_rl\r\n",
      "open ai gym.ipynb   tensorflow_logs\t\t\t   Untitled.ipynb\r\n"
     ]
    }
   ],
   "source": [
    "!cd tictactoe_keras_rl\n",
    "!ls"
   ]
  },
  {
   "cell_type": "code",
   "execution_count": 9,
   "metadata": {},
   "outputs": [],
   "source": [
    "!cd tictactoe_keras_rl/"
   ]
  },
  {
   "cell_type": "code",
   "execution_count": 11,
   "metadata": {},
   "outputs": [
    {
     "data": {
      "text/plain": [
       "'/home/sa05975666/Sept14_ReLearn_TTT'"
      ]
     },
     "execution_count": 11,
     "metadata": {},
     "output_type": "execute_result"
    }
   ],
   "source": [
    "import os\n",
    "os.getcwd()"
   ]
  },
  {
   "cell_type": "code",
   "execution_count": null,
   "metadata": {},
   "outputs": [],
   "source": []
  }
 ],
 "metadata": {
  "kernelspec": {
   "display_name": "Python 3",
   "language": "python",
   "name": "python3"
  },
  "language_info": {
   "codemirror_mode": {
    "name": "ipython",
    "version": 3
   },
   "file_extension": ".py",
   "mimetype": "text/x-python",
   "name": "python",
   "nbconvert_exporter": "python",
   "pygments_lexer": "ipython3",
   "version": "3.6.5"
  }
 },
 "nbformat": 4,
 "nbformat_minor": 2
}
