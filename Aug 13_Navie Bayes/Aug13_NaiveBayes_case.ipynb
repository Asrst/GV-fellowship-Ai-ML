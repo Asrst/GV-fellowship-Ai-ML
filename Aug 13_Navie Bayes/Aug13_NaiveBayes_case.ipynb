{
 "cells": [
  {
   "cell_type": "markdown",
   "metadata": {},
   "source": [
    "### Loan Approval Case Study: The data has 28 features and target variable is predict whether \n",
    "### if loan is approved or Rejected"
   ]
  },
  {
   "cell_type": "code",
   "execution_count": 2,
   "metadata": {},
   "outputs": [],
   "source": [
    "#import libraries\n",
    "import os\n",
    "import pandas as pd\n",
    "import numpy as np\n",
    "import scipy as sp\n",
    "import seaborn as sns\n",
    "import math as m\n",
    "import xlrd\n",
    "from scipy import stats\n",
    "from sklearn import datasets\n",
    "import matplotlib.pyplot as plt"
   ]
  },
  {
   "cell_type": "code",
   "execution_count": 3,
   "metadata": {},
   "outputs": [
    {
     "data": {
      "text/plain": [
       "'/home/sa05975666/13-08-2018'"
      ]
     },
     "execution_count": 3,
     "metadata": {},
     "output_type": "execute_result"
    }
   ],
   "source": [
    "# set work directory\n",
    "os.getcwd()"
   ]
  },
  {
   "cell_type": "code",
   "execution_count": 3,
   "metadata": {},
   "outputs": [],
   "source": [
    "path = os.getcwd()\n",
    "itrain = pd.read_excel(str(path)+'/Aug13_NaiveBayes_Case.xlsx')"
   ]
  },
  {
   "cell_type": "code",
   "execution_count": 86,
   "metadata": {},
   "outputs": [
    {
     "name": "stdout",
     "output_type": "stream",
     "text": [
      "<class 'pandas.core.frame.DataFrame'>\n",
      "RangeIndex: 7759 entries, 0 to 7758\n",
      "Data columns (total 29 columns):\n",
      "APPLICATION.ID           7759 non-null int64\n",
      "DSA.ID                   7759 non-null object\n",
      "DEALER.ID                7759 non-null int64\n",
      "QUEUE.ID                 7759 non-null object\n",
      "CURRENT.STAGE            7759 non-null object\n",
      "MARITAL.STATUS           7759 non-null object\n",
      "GENDER                   7759 non-null object\n",
      "AGE                      7759 non-null int64\n",
      "EDUCATION                7759 non-null object\n",
      "RESIDENCE.TYPE           7759 non-null object\n",
      "CITY                     7759 non-null object\n",
      "STATE                    7759 non-null object\n",
      "ZIP.CODE                 7759 non-null int64\n",
      "EMPLOY.CONSTITUTION      7759 non-null object\n",
      "PAN.STATUS               7759 non-null object\n",
      "APPLICATION.SCORE        7759 non-null float64\n",
      "APPROVED.AMOUNT          7759 non-null int64\n",
      "APPLIED.AMOUNT           7759 non-null int64\n",
      "LOAN.TENOR               7759 non-null int64\n",
      "OWN.HOUSE.TYPE           7759 non-null object\n",
      "PRIMARY.ASSET.CTG        7759 non-null object\n",
      "PRIMARY.ASSET.MAKE       7759 non-null object\n",
      "PRIMARY.ASSET.MODELNO    7759 non-null object\n",
      "VOTER_ID                 7759 non-null object\n",
      "DRIVING_LICENSE          7759 non-null object\n",
      "AADHAAR                  7759 non-null object\n",
      "PAN                      7759 non-null object\n",
      "BANK_PASSBOOK            7759 non-null object\n",
      "APPLICATION.STATUS       7759 non-null object\n",
      "dtypes: float64(1), int64(7), object(21)\n",
      "memory usage: 1.7+ MB\n"
     ]
    }
   ],
   "source": [
    "itrain.info()"
   ]
  },
  {
   "cell_type": "code",
   "execution_count": 80,
   "metadata": {},
   "outputs": [
    {
     "data": {
      "text/plain": [
       "APPLICATION.ID           (7759, [[27497000024, 25556001005, 27220000249...\n",
       "DSA.ID                   (721, [[JB02005, RD02622, SK02345, DN30900, AS...\n",
       "DEALER.ID                (1095, [[27497, 25556, 27220, 27067, 26189, 27...\n",
       "QUEUE.ID                  (2, [[Straight  Through Process, Under.Writer]])\n",
       "CURRENT.STAGE            (8, [[PD_DE, DCLN, APRV, SRNV, INV_GNR, LOS_DI...\n",
       "MARITAL.STATUS                                    (2, [[Single, Married]])\n",
       "GENDER                                               (2, [[Male, Female]])\n",
       "AGE                      (51, [[30, 38, 52, 57, 43, 28, 33, 23, 49, 21,...\n",
       "EDUCATION                (6, [[GRADUATE, OTHERS, UNDER GRADUATE, POST-G...\n",
       "RESIDENCE.TYPE           (15, [[OWNED-BUNGLOW, PARENT OWNED-HOUSE, OWNE...\n",
       "CITY                     (429, [[UDHANA, BHOPAL, RAIPUR, JAMNAGAR, HYDE...\n",
       "STATE                    (14, [[GUJARAT, MADHYA PRADESH, CHHATTISGARH, ...\n",
       "ZIP.CODE                 (1367, [[394210, 462001, 492001, 361001, 49200...\n",
       "EMPLOY.CONSTITUTION      (5, [[SELF-EMPLOYED, SALARIED, PARTNERSHIP, PR...\n",
       "PAN.STATUS               (4, [[Pan Not Submitted, ERROR, EXIST, NOT_FOU...\n",
       "APPLICATION.SCORE        (167, [[69.0, 108.0, 143.0, 60.0, 62.0, 92.0, ...\n",
       "APPROVED.AMOUNT          (304, [[32321, 47000, 30000, 40000, 20000, 450...\n",
       "APPLIED.AMOUNT           (471, [[28000, 47000, 30000, 49000, 45000, 179...\n",
       "LOAN.TENOR               (31, [[10, 12, 18, 24, 20, 9, 14, 120, 15, 96,...\n",
       "OWN.HOUSE.TYPE           (4, [[Self Owned, Parent Owned, Spouse Owned, ...\n",
       "PRIMARY.ASSET.CTG        (55, [[REF-FF HOME, TELEVISION, AIR CONDITIONE...\n",
       "PRIMARY.ASSET.MAKE       (56, [[SAMSUNG, SONY, ELECTROLUX, TARGET, LG, ...\n",
       "PRIMARY.ASSET.MODELNO    (1893, [[RT30K3723S8/HL, KLV-29P423D, AIR COND...\n",
       "VOTER_ID                                                     (2, [[F, T]])\n",
       "DRIVING_LICENSE                                              (2, [[F, T]])\n",
       "AADHAAR                                                      (2, [[T, F]])\n",
       "PAN                                                          (2, [[F, T]])\n",
       "BANK_PASSBOOK                                                (2, [[F, T]])\n",
       "APPLICATION.STATUS                             (2, [[Declined, Approved]])\n",
       "dtype: object"
      ]
     },
     "execution_count": 80,
     "metadata": {},
     "output_type": "execute_result"
    }
   ],
   "source": [
    "itrain.apply(lambda x: (len(x.unique()), [x.unique()]))"
   ]
  },
  {
   "cell_type": "code",
   "execution_count": 107,
   "metadata": {
    "scrolled": false
   },
   "outputs": [],
   "source": [
    "col = ['EDUCATION', 'RESIDENCE.TYPE','EMPLOY.CONSTITUTION',\n",
    "       'APPLICATION.SCORE', 'APPROVED.AMOUNT','STATE', 'MARITAL.STATUS', 'OWN.HOUSE.TYPE',\n",
    "       'PAN.STATUS', 'CURRENT.STAGE','LOAN.TENOR']"
   ]
  },
  {
   "cell_type": "code",
   "execution_count": 21,
   "metadata": {},
   "outputs": [],
   "source": [
    "# dump = ['APPLICATION.ID', 'APPLIED.AMOUNT','PRIMARY.ASSET.MODELNO']\n",
    "# train = itrain.drop(dump, axis =1)\n",
    "\n",
    "# itrain['CITY'].value_counts()\n",
    "\n",
    "# from sklearn.preprocessing import LabelEncoder\n",
    "\n",
    "# le = LabelEncoder()\n",
    "\n",
    "# cat = ['CURRENT.STAGE','MARITAL.STATUS', 'GENDER', 'EDUCATION', 'RESIDENCE.TYPE',\n",
    "#        'CITY', 'STATE', 'ZIP.CODE', 'EMPLOY.CONSTITUTION', 'PAN.STATUS',\n",
    "#        'OWN.HOUSE.TYPE', 'PRIMARY.ASSET.CTG', 'PRIMARY.ASSET.MAKE','DRIVING_LICENSE', 'AADHAAR',\n",
    "#        'PAN', 'BANK_PASSBOOK', 'VOTER_ID', 'DSA.ID', 'DEALER.ID', 'QUEUE.ID']\n",
    "\n",
    "# cat = ['EDUCATION', 'RESIDENCE.TYPE', 'EMPLOY.CONSTITUTION',\n",
    "#        'OWN.HOUSE.TYPE','PAN.STATUS', 'CURRENT.STAGE']\n",
    "\n",
    "# for i in cat:\n",
    "#     train[i] = le.fit_transform(train[i])"
   ]
  },
  {
   "cell_type": "markdown",
   "metadata": {},
   "source": [
    "### numbers Approved vs Rejected"
   ]
  },
  {
   "cell_type": "code",
   "execution_count": 97,
   "metadata": {},
   "outputs": [
    {
     "data": {
      "text/plain": [
       "<matplotlib.axes._subplots.AxesSubplot at 0x7f02a879feb8>"
      ]
     },
     "execution_count": 97,
     "metadata": {},
     "output_type": "execute_result"
    },
    {
     "data": {
      "image/png": "[encoded data removed]",
      "text/plain": [
       "<matplotlib.figure.Figure at 0x7f02b3ad0390>"
      ]
     },
     "metadata": {},
     "output_type": "display_data"
    }
   ],
   "source": [
    "itrain['APPLICATION.STATUS'].value_counts().plot.bar()"
   ]
  },
  {
   "cell_type": "markdown",
   "metadata": {},
   "source": [
    "### Analysing using Pivot tables"
   ]
  },
  {
   "cell_type": "code",
   "execution_count": 22,
   "metadata": {},
   "outputs": [
    {
     "data": {
      "image/png": "[encoded data removed]",
      "text/plain": [
       "<matplotlib.figure.Figure at 0x7f02a8163a20>"
      ]
     },
     "metadata": {},
     "output_type": "display_data"
    }
   ],
   "source": [
    "temp = pd.pivot_table(data = itrain, index = 'CURRENT.STAGE', columns = 'APPLICATION.STATUS', values = 'APPLICATION.ID', \n",
    "               aggfunc = 'count').plot.bar(figsize = (10,5))"
   ]
  },
  {
   "cell_type": "code",
   "execution_count": 95,
   "metadata": {},
   "outputs": [
    {
     "data": {
      "image/png": "[encoded data removed]",
      "text/plain": [
       "<matplotlib.figure.Figure at 0x7f02b3f3f240>"
      ]
     },
     "metadata": {},
     "output_type": "display_data"
    }
   ],
   "source": [
    "temp = pd.pivot_table(data = itrain, index = 'STATE', columns = 'APPLICATION.STATUS', values = 'APPLICATION.ID', \n",
    "               aggfunc = 'count').plot.bar(figsize = (10,5))"
   ]
  },
  {
   "cell_type": "code",
   "execution_count": 27,
   "metadata": {},
   "outputs": [
    {
     "data": {
      "text/html": [
       "<div>\n",
       "<style scoped>\n",
       "    .dataframe tbody tr th:only-of-type {\n",
       "        vertical-align: middle;\n",
       "    }\n",
       "\n",
       "    .dataframe tbody tr th {\n",
       "        vertical-align: top;\n",
       "    }\n",
       "\n",
       "    .dataframe thead th {\n",
       "        text-align: right;\n",
       "    }\n",
       "</style>\n",
       "<table border=\"1\" class=\"dataframe\">\n",
       "  <thead>\n",
       "    <tr style=\"text-align: right;\">\n",
       "      <th>APPLICATION.STATUS</th>\n",
       "      <th>Approved</th>\n",
       "      <th>Declined</th>\n",
       "      <th>All</th>\n",
       "      <th>Percent</th>\n",
       "    </tr>\n",
       "    <tr>\n",
       "      <th>CURRENT.STAGE</th>\n",
       "      <th></th>\n",
       "      <th></th>\n",
       "      <th></th>\n",
       "      <th></th>\n",
       "    </tr>\n",
       "  </thead>\n",
       "  <tbody>\n",
       "    <tr>\n",
       "      <th>APRV</th>\n",
       "      <td>1107.0</td>\n",
       "      <td>NaN</td>\n",
       "      <td>1107</td>\n",
       "      <td>100.000000</td>\n",
       "    </tr>\n",
       "    <tr>\n",
       "      <th>DCLN</th>\n",
       "      <td>NaN</td>\n",
       "      <td>2123.0</td>\n",
       "      <td>2123</td>\n",
       "      <td>NaN</td>\n",
       "    </tr>\n",
       "    <tr>\n",
       "      <th>INV_GNR</th>\n",
       "      <td>856.0</td>\n",
       "      <td>NaN</td>\n",
       "      <td>856</td>\n",
       "      <td>100.000000</td>\n",
       "    </tr>\n",
       "    <tr>\n",
       "      <th>LOS_BDE</th>\n",
       "      <td>86.0</td>\n",
       "      <td>NaN</td>\n",
       "      <td>86</td>\n",
       "      <td>100.000000</td>\n",
       "    </tr>\n",
       "    <tr>\n",
       "      <th>LOS_DISB</th>\n",
       "      <td>729.0</td>\n",
       "      <td>1.0</td>\n",
       "      <td>730</td>\n",
       "      <td>99.863014</td>\n",
       "    </tr>\n",
       "    <tr>\n",
       "      <th>LOS_ERROR</th>\n",
       "      <td>5.0</td>\n",
       "      <td>1.0</td>\n",
       "      <td>6</td>\n",
       "      <td>83.333333</td>\n",
       "    </tr>\n",
       "    <tr>\n",
       "      <th>PD_DE</th>\n",
       "      <td>1359.0</td>\n",
       "      <td>1197.0</td>\n",
       "      <td>2556</td>\n",
       "      <td>53.169014</td>\n",
       "    </tr>\n",
       "    <tr>\n",
       "      <th>SRNV</th>\n",
       "      <td>295.0</td>\n",
       "      <td>NaN</td>\n",
       "      <td>295</td>\n",
       "      <td>100.000000</td>\n",
       "    </tr>\n",
       "    <tr>\n",
       "      <th>All</th>\n",
       "      <td>4437.0</td>\n",
       "      <td>3322.0</td>\n",
       "      <td>7759</td>\n",
       "      <td>57.185204</td>\n",
       "    </tr>\n",
       "  </tbody>\n",
       "</table>\n",
       "</div>"
      ],
      "text/plain": [
       "APPLICATION.STATUS  Approved  Declined   All     Percent\n",
       "CURRENT.STAGE                                           \n",
       "APRV                  1107.0       NaN  1107  100.000000\n",
       "DCLN                     NaN    2123.0  2123         NaN\n",
       "INV_GNR                856.0       NaN   856  100.000000\n",
       "LOS_BDE                 86.0       NaN    86  100.000000\n",
       "LOS_DISB               729.0       1.0   730   99.863014\n",
       "LOS_ERROR                5.0       1.0     6   83.333333\n",
       "PD_DE                 1359.0    1197.0  2556   53.169014\n",
       "SRNV                   295.0       NaN   295  100.000000\n",
       "All                   4437.0    3322.0  7759   57.185204"
      ]
     },
     "execution_count": 27,
     "metadata": {},
     "output_type": "execute_result"
    }
   ],
   "source": [
    "temp = pd.pivot_table(data = itrain, index = 'CURRENT.STAGE', columns = 'APPLICATION.STATUS', values = 'APPLICATION.ID', \n",
    "               aggfunc = 'count', margins = True)\n",
    "temp['Percent'] = temp['Approved']/temp['All'] * 100"
   ]
  },
  {
   "cell_type": "code",
   "execution_count": 29,
   "metadata": {},
   "outputs": [
    {
     "data": {
      "text/html": [
       "<div>\n",
       "<style scoped>\n",
       "    .dataframe tbody tr th:only-of-type {\n",
       "        vertical-align: middle;\n",
       "    }\n",
       "\n",
       "    .dataframe tbody tr th {\n",
       "        vertical-align: top;\n",
       "    }\n",
       "\n",
       "    .dataframe thead th {\n",
       "        text-align: right;\n",
       "    }\n",
       "</style>\n",
       "<table border=\"1\" class=\"dataframe\">\n",
       "  <thead>\n",
       "    <tr style=\"text-align: right;\">\n",
       "      <th>APPLICATION.STATUS</th>\n",
       "      <th>Approved</th>\n",
       "      <th>Declined</th>\n",
       "      <th>All</th>\n",
       "      <th>Percent</th>\n",
       "    </tr>\n",
       "    <tr>\n",
       "      <th>EDUCATION</th>\n",
       "      <th></th>\n",
       "      <th></th>\n",
       "      <th></th>\n",
       "      <th></th>\n",
       "    </tr>\n",
       "  </thead>\n",
       "  <tbody>\n",
       "    <tr>\n",
       "      <th>DOCTORATE</th>\n",
       "      <td>8</td>\n",
       "      <td>4</td>\n",
       "      <td>12</td>\n",
       "      <td>66.666667</td>\n",
       "    </tr>\n",
       "    <tr>\n",
       "      <th>GRADUATE</th>\n",
       "      <td>2505</td>\n",
       "      <td>1752</td>\n",
       "      <td>4257</td>\n",
       "      <td>58.844257</td>\n",
       "    </tr>\n",
       "    <tr>\n",
       "      <th>OTHERS</th>\n",
       "      <td>637</td>\n",
       "      <td>590</td>\n",
       "      <td>1227</td>\n",
       "      <td>51.915240</td>\n",
       "    </tr>\n",
       "    <tr>\n",
       "      <th>POST-GRADUATE</th>\n",
       "      <td>255</td>\n",
       "      <td>164</td>\n",
       "      <td>419</td>\n",
       "      <td>60.859189</td>\n",
       "    </tr>\n",
       "    <tr>\n",
       "      <th>PROFESSIONAL</th>\n",
       "      <td>18</td>\n",
       "      <td>14</td>\n",
       "      <td>32</td>\n",
       "      <td>56.250000</td>\n",
       "    </tr>\n",
       "    <tr>\n",
       "      <th>UNDER GRADUATE</th>\n",
       "      <td>1014</td>\n",
       "      <td>798</td>\n",
       "      <td>1812</td>\n",
       "      <td>55.960265</td>\n",
       "    </tr>\n",
       "    <tr>\n",
       "      <th>All</th>\n",
       "      <td>4437</td>\n",
       "      <td>3322</td>\n",
       "      <td>7759</td>\n",
       "      <td>57.185204</td>\n",
       "    </tr>\n",
       "  </tbody>\n",
       "</table>\n",
       "</div>"
      ],
      "text/plain": [
       "APPLICATION.STATUS  Approved  Declined   All    Percent\n",
       "EDUCATION                                              \n",
       "DOCTORATE                  8         4    12  66.666667\n",
       "GRADUATE                2505      1752  4257  58.844257\n",
       "OTHERS                   637       590  1227  51.915240\n",
       "POST-GRADUATE            255       164   419  60.859189\n",
       "PROFESSIONAL              18        14    32  56.250000\n",
       "UNDER GRADUATE          1014       798  1812  55.960265\n",
       "All                     4437      3322  7759  57.185204"
      ]
     },
     "execution_count": 29,
     "metadata": {},
     "output_type": "execute_result"
    }
   ],
   "source": [
    "temp = pd.pivot_table(data = itrain, index = 'EDUCATION', columns = 'APPLICATION.STATUS', values = 'APPLICATION.ID', \n",
    "               aggfunc = 'count', margins = True)\n",
    "temp['Percent'] = temp['Approved']/temp['All'] * 100\n",
    "temp"
   ]
  },
  {
   "cell_type": "code",
   "execution_count": 30,
   "metadata": {},
   "outputs": [
    {
     "data": {
      "text/html": [
       "<div>\n",
       "<style scoped>\n",
       "    .dataframe tbody tr th:only-of-type {\n",
       "        vertical-align: middle;\n",
       "    }\n",
       "\n",
       "    .dataframe tbody tr th {\n",
       "        vertical-align: top;\n",
       "    }\n",
       "\n",
       "    .dataframe thead th {\n",
       "        text-align: right;\n",
       "    }\n",
       "</style>\n",
       "<table border=\"1\" class=\"dataframe\">\n",
       "  <thead>\n",
       "    <tr style=\"text-align: right;\">\n",
       "      <th>APPLICATION.STATUS</th>\n",
       "      <th>Approved</th>\n",
       "      <th>Declined</th>\n",
       "      <th>All</th>\n",
       "      <th>Percent</th>\n",
       "    </tr>\n",
       "    <tr>\n",
       "      <th>QUEUE.ID</th>\n",
       "      <th></th>\n",
       "      <th></th>\n",
       "      <th></th>\n",
       "      <th></th>\n",
       "    </tr>\n",
       "  </thead>\n",
       "  <tbody>\n",
       "    <tr>\n",
       "      <th>Straight  Through Process</th>\n",
       "      <td>3454</td>\n",
       "      <td>1918</td>\n",
       "      <td>5372</td>\n",
       "      <td>64.296351</td>\n",
       "    </tr>\n",
       "    <tr>\n",
       "      <th>Under.Writer</th>\n",
       "      <td>983</td>\n",
       "      <td>1404</td>\n",
       "      <td>2387</td>\n",
       "      <td>41.181399</td>\n",
       "    </tr>\n",
       "    <tr>\n",
       "      <th>All</th>\n",
       "      <td>4437</td>\n",
       "      <td>3322</td>\n",
       "      <td>7759</td>\n",
       "      <td>57.185204</td>\n",
       "    </tr>\n",
       "  </tbody>\n",
       "</table>\n",
       "</div>"
      ],
      "text/plain": [
       "APPLICATION.STATUS         Approved  Declined   All    Percent\n",
       "QUEUE.ID                                                      \n",
       "Straight  Through Process      3454      1918  5372  64.296351\n",
       "Under.Writer                    983      1404  2387  41.181399\n",
       "All                            4437      3322  7759  57.185204"
      ]
     },
     "execution_count": 30,
     "metadata": {},
     "output_type": "execute_result"
    }
   ],
   "source": [
    "temp = pd.pivot_table(data = itrain, index = 'QUEUE.ID', columns = 'APPLICATION.STATUS', values = 'APPLICATION.ID', \n",
    "               aggfunc = 'count', margins = True)\n",
    "temp['Percent'] = temp['Approved']/temp['All'] * 100\n",
    "temp"
   ]
  },
  {
   "cell_type": "code",
   "execution_count": 58,
   "metadata": {},
   "outputs": [
    {
     "data": {
      "text/html": [
       "<div>\n",
       "<style scoped>\n",
       "    .dataframe tbody tr th:only-of-type {\n",
       "        vertical-align: middle;\n",
       "    }\n",
       "\n",
       "    .dataframe tbody tr th {\n",
       "        vertical-align: top;\n",
       "    }\n",
       "\n",
       "    .dataframe thead th {\n",
       "        text-align: right;\n",
       "    }\n",
       "</style>\n",
       "<table border=\"1\" class=\"dataframe\">\n",
       "  <thead>\n",
       "    <tr style=\"text-align: right;\">\n",
       "      <th>APPLICATION.STATUS</th>\n",
       "      <th>Approved</th>\n",
       "      <th>Declined</th>\n",
       "      <th>All</th>\n",
       "      <th>Percent</th>\n",
       "    </tr>\n",
       "    <tr>\n",
       "      <th>RESIDENCE.TYPE</th>\n",
       "      <th></th>\n",
       "      <th></th>\n",
       "      <th></th>\n",
       "      <th></th>\n",
       "    </tr>\n",
       "  </thead>\n",
       "  <tbody>\n",
       "    <tr>\n",
       "      <th>COMPANY PROVIDED-FLAT</th>\n",
       "      <td>22.0</td>\n",
       "      <td>11.0</td>\n",
       "      <td>33</td>\n",
       "      <td>66.666667</td>\n",
       "    </tr>\n",
       "    <tr>\n",
       "      <th>COMPANY PROVIDED-HOUSE</th>\n",
       "      <td>27.0</td>\n",
       "      <td>22.0</td>\n",
       "      <td>49</td>\n",
       "      <td>55.102041</td>\n",
       "    </tr>\n",
       "    <tr>\n",
       "      <th>OWNED-BUNGLOW</th>\n",
       "      <td>627.0</td>\n",
       "      <td>379.0</td>\n",
       "      <td>1006</td>\n",
       "      <td>62.326044</td>\n",
       "    </tr>\n",
       "    <tr>\n",
       "      <th>OWNED-CHAWL</th>\n",
       "      <td>169.0</td>\n",
       "      <td>115.0</td>\n",
       "      <td>284</td>\n",
       "      <td>59.507042</td>\n",
       "    </tr>\n",
       "    <tr>\n",
       "      <th>OWNED-FLAT</th>\n",
       "      <td>720.0</td>\n",
       "      <td>434.0</td>\n",
       "      <td>1154</td>\n",
       "      <td>62.391681</td>\n",
       "    </tr>\n",
       "    <tr>\n",
       "      <th>OWNED-PENTHOUSE</th>\n",
       "      <td>423.0</td>\n",
       "      <td>246.0</td>\n",
       "      <td>669</td>\n",
       "      <td>63.228700</td>\n",
       "    </tr>\n",
       "    <tr>\n",
       "      <th>OWNED-ROWHOUSE</th>\n",
       "      <td>643.0</td>\n",
       "      <td>421.0</td>\n",
       "      <td>1064</td>\n",
       "      <td>60.432331</td>\n",
       "    </tr>\n",
       "    <tr>\n",
       "      <th>PARENT OWNED-FLAT</th>\n",
       "      <td>45.0</td>\n",
       "      <td>38.0</td>\n",
       "      <td>83</td>\n",
       "      <td>54.216867</td>\n",
       "    </tr>\n",
       "    <tr>\n",
       "      <th>PARENT OWNED-HOUSE</th>\n",
       "      <td>826.0</td>\n",
       "      <td>475.0</td>\n",
       "      <td>1301</td>\n",
       "      <td>63.489623</td>\n",
       "    </tr>\n",
       "    <tr>\n",
       "      <th>RENTED-BACHELOR ACCOMODATION</th>\n",
       "      <td>1.0</td>\n",
       "      <td>NaN</td>\n",
       "      <td>1</td>\n",
       "      <td>100.000000</td>\n",
       "    </tr>\n",
       "    <tr>\n",
       "      <th>RENTED-BUNGLOW</th>\n",
       "      <td>126.0</td>\n",
       "      <td>162.0</td>\n",
       "      <td>288</td>\n",
       "      <td>43.750000</td>\n",
       "    </tr>\n",
       "    <tr>\n",
       "      <th>RENTED-CHAWL</th>\n",
       "      <td>61.0</td>\n",
       "      <td>86.0</td>\n",
       "      <td>147</td>\n",
       "      <td>41.496599</td>\n",
       "    </tr>\n",
       "    <tr>\n",
       "      <th>RENTED-FLAT</th>\n",
       "      <td>353.0</td>\n",
       "      <td>417.0</td>\n",
       "      <td>770</td>\n",
       "      <td>45.844156</td>\n",
       "    </tr>\n",
       "    <tr>\n",
       "      <th>RENTED-PENTHOUSE</th>\n",
       "      <td>137.0</td>\n",
       "      <td>170.0</td>\n",
       "      <td>307</td>\n",
       "      <td>44.625407</td>\n",
       "    </tr>\n",
       "    <tr>\n",
       "      <th>RENTED-ROWHOUSE</th>\n",
       "      <td>257.0</td>\n",
       "      <td>346.0</td>\n",
       "      <td>603</td>\n",
       "      <td>42.620232</td>\n",
       "    </tr>\n",
       "    <tr>\n",
       "      <th>All</th>\n",
       "      <td>4437.0</td>\n",
       "      <td>3322.0</td>\n",
       "      <td>7759</td>\n",
       "      <td>57.185204</td>\n",
       "    </tr>\n",
       "  </tbody>\n",
       "</table>\n",
       "</div>"
      ],
      "text/plain": [
       "APPLICATION.STATUS            Approved  Declined   All     Percent\n",
       "RESIDENCE.TYPE                                                    \n",
       "COMPANY PROVIDED-FLAT             22.0      11.0    33   66.666667\n",
       "COMPANY PROVIDED-HOUSE            27.0      22.0    49   55.102041\n",
       "OWNED-BUNGLOW                    627.0     379.0  1006   62.326044\n",
       "OWNED-CHAWL                      169.0     115.0   284   59.507042\n",
       "OWNED-FLAT                       720.0     434.0  1154   62.391681\n",
       "OWNED-PENTHOUSE                  423.0     246.0   669   63.228700\n",
       "OWNED-ROWHOUSE                   643.0     421.0  1064   60.432331\n",
       "PARENT OWNED-FLAT                 45.0      38.0    83   54.216867\n",
       "PARENT OWNED-HOUSE               826.0     475.0  1301   63.489623\n",
       "RENTED-BACHELOR ACCOMODATION       1.0       NaN     1  100.000000\n",
       "RENTED-BUNGLOW                   126.0     162.0   288   43.750000\n",
       "RENTED-CHAWL                      61.0      86.0   147   41.496599\n",
       "RENTED-FLAT                      353.0     417.0   770   45.844156\n",
       "RENTED-PENTHOUSE                 137.0     170.0   307   44.625407\n",
       "RENTED-ROWHOUSE                  257.0     346.0   603   42.620232\n",
       "All                             4437.0    3322.0  7759   57.185204"
      ]
     },
     "execution_count": 58,
     "metadata": {},
     "output_type": "execute_result"
    }
   ],
   "source": [
    "temp = pd.pivot_table(data = itrain, index = 'RESIDENCE.TYPE', columns = 'APPLICATION.STATUS', values = 'APPLICATION.ID', \n",
    "               aggfunc = 'count', margins = True)\n",
    "temp['Percent'] = temp['Approved']/temp['All'] * 100\n",
    "temp"
   ]
  },
  {
   "cell_type": "code",
   "execution_count": 108,
   "metadata": {},
   "outputs": [],
   "source": [
    "train = itrain[col]\n",
    "train_en = pd.get_dummies(data = train)"
   ]
  },
  {
   "cell_type": "code",
   "execution_count": 109,
   "metadata": {},
   "outputs": [],
   "source": [
    "predictors = train_en.copy()\n",
    "target = itrain['APPLICATION.STATUS'].replace({'Approved' : 1, 'Declined' : 0})"
   ]
  },
  {
   "cell_type": "code",
   "execution_count": 110,
   "metadata": {},
   "outputs": [
    {
     "data": {
      "text/plain": [
       "(7759, 61)"
      ]
     },
     "execution_count": 110,
     "metadata": {},
     "output_type": "execute_result"
    }
   ],
   "source": [
    "predictors.shape"
   ]
  },
  {
   "cell_type": "markdown",
   "metadata": {},
   "source": [
    "### Model & Metrics"
   ]
  },
  {
   "cell_type": "code",
   "execution_count": 111,
   "metadata": {
    "scrolled": true
   },
   "outputs": [
    {
     "name": "stdout",
     "output_type": "stream",
     "text": [
      "             precision    recall  f1-score   support\n",
      "\n",
      "          0       0.87      0.99      0.93      1021\n",
      "          1       0.99      0.89      0.94      1307\n",
      "\n",
      "avg / total       0.94      0.93      0.93      2328\n",
      "\n",
      "0.9342783505154639\n"
     ]
    },
    {
     "data": {
      "text/html": [
       "<div>\n",
       "<style scoped>\n",
       "    .dataframe tbody tr th:only-of-type {\n",
       "        vertical-align: middle;\n",
       "    }\n",
       "\n",
       "    .dataframe tbody tr th {\n",
       "        vertical-align: top;\n",
       "    }\n",
       "\n",
       "    .dataframe thead th {\n",
       "        text-align: right;\n",
       "    }\n",
       "</style>\n",
       "<table border=\"1\" class=\"dataframe\">\n",
       "  <thead>\n",
       "    <tr style=\"text-align: right;\">\n",
       "      <th>col_0</th>\n",
       "      <th>0</th>\n",
       "      <th>1</th>\n",
       "    </tr>\n",
       "    <tr>\n",
       "      <th>APPLICATION.STATUS</th>\n",
       "      <th></th>\n",
       "      <th></th>\n",
       "    </tr>\n",
       "  </thead>\n",
       "  <tbody>\n",
       "    <tr>\n",
       "      <th>0</th>\n",
       "      <td>1015</td>\n",
       "      <td>6</td>\n",
       "    </tr>\n",
       "    <tr>\n",
       "      <th>1</th>\n",
       "      <td>147</td>\n",
       "      <td>1160</td>\n",
       "    </tr>\n",
       "  </tbody>\n",
       "</table>\n",
       "</div>"
      ],
      "text/plain": [
       "col_0                  0     1\n",
       "APPLICATION.STATUS            \n",
       "0                   1015     6\n",
       "1                    147  1160"
      ]
     },
     "execution_count": 111,
     "metadata": {},
     "output_type": "execute_result"
    }
   ],
   "source": [
    "\n",
    "#importing packages from sk learn\n",
    "#from sklearn.ensemble import RandomForestClassifier\n",
    "from sklearn.datasets import make_classification\n",
    "from sklearn.model_selection import train_test_split\n",
    "from sklearn.metrics import roc_auc_score\n",
    "from sklearn.feature_selection import RFE\n",
    "\n",
    "\n",
    "#FUNCTION for Train & Validation set\n",
    "X_train, X_test, y_train, y_test = train_test_split(predictors, target, test_size=0.3, \n",
    "                                                    random_state = 70)\n",
    "\n",
    "# training a Naive Bayes classifier\n",
    "from sklearn.naive_bayes import GaussianNB\n",
    "gnb = GaussianNB()\n",
    "gnb = gnb.fit(X_train, y_train)\n",
    "gnb_predictions = gnb.predict(X_test)\n",
    "\n",
    "from sklearn.metrics import classification_report\n",
    "print(classification_report(y_test, gnb_predictions))\n",
    "\n",
    " \n",
    "# accuracy on X_test\n",
    "accuracy = gnb.score(X_test, y_test)\n",
    "print(accuracy)\n",
    " \n",
    "# creating a confusion matrix\n",
    "NbCM = pd.crosstab(y_test, gnb_predictions)\n",
    "NbCM"
   ]
  },
  {
   "cell_type": "markdown",
   "metadata": {},
   "source": [
    "### ROC Curve"
   ]
  },
  {
   "cell_type": "code",
   "execution_count": 112,
   "metadata": {},
   "outputs": [
    {
     "data": {
      "image/png": "[encoded data removed]",
      "text/plain": [
       "<matplotlib.figure.Figure at 0x7f02b4305160>"
      ]
     },
     "metadata": {},
     "output_type": "display_data"
    }
   ],
   "source": [
    "from sklearn.metrics import roc_auc_score\n",
    "from sklearn.metrics import roc_curve\n",
    "nb_roc_auc = roc_auc_score(y_test, gnb.predict(X_test))\n",
    "fpr, tpr, thresholds = roc_curve(y_test, gnb.predict_proba(X_test)[:,1])\n",
    "plt.figure()\n",
    "plt.plot(fpr, tpr, label='(area = %0.2f)' % nb_roc_auc)\n",
    "plt.plot([0, 1], [0, 1],'r--')\n",
    "plt.xlim([0.0, 1.0])\n",
    "plt.ylim([0.0, 1.05])\n",
    "plt.xlabel('False Positive Rate')\n",
    "plt.ylabel('True Positive Rate')\n",
    "plt.title('Receiver operating characteristic')\n",
    "plt.legend(loc=\"lower right\")\n",
    "plt.show()"
   ]
  },
  {
   "cell_type": "code",
   "execution_count": 11,
   "metadata": {},
   "outputs": [],
   "source": [
    "#selector = RFE(gnb, 5, step=1)\n",
    "#selector = selector.fit(X_train, y_train)\n",
    "#selector.support_ \n",
    "#selector.ranking_"
   ]
  }
 ],
 "metadata": {
  "kernelspec": {
   "display_name": "Python 3",
   "language": "python",
   "name": "python3"
  },
  "language_info": {
   "codemirror_mode": {
    "name": "ipython",
    "version": 3
   },
   "file_extension": ".py",
   "mimetype": "text/x-python",
   "name": "python",
   "nbconvert_exporter": "python",
   "pygments_lexer": "ipython3",
   "version": "3.6.4"
  }
 },
 "nbformat": 4,
 "nbformat_minor": 2
}
